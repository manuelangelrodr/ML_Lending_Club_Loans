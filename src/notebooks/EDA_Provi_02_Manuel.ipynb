{
 "cells": [
  {
   "cell_type": "markdown",
   "metadata": {},
   "source": [
    "# INFORMACIÓN DEL PROYECTO"
   ]
  },
  {
   "cell_type": "markdown",
   "metadata": {},
   "source": [
    "### TÍTULO\n",
    "\n",
    "¿Qué variables inciden en si un préstamo va a ser impagado?"
   ]
  },
  {
   "cell_type": "markdown",
   "metadata": {},
   "source": [
    "### TEMA\n",
    "\n",
    "En este estudio vamos a analizar si hay variables que explican mejor que otras si un préstamo va a ser impagado"
   ]
  },
  {
   "cell_type": "markdown",
   "metadata": {},
   "source": [
    "### HIPÓTESIS\n",
    "\n",
    "La hipótesis de la que partimos es que existen variables que permiten explicar la probabilidad de que un préstamo resulte impagado. \n",
    "\n",
    "En concreto partimos de datasets cuyo origen está en el reconocido \"All Lending Club loan data\" que recopila información sobre diversas variables de préstamos de USA. En Kaggle existe información hasta 2018 (https://www.kaggle.com/datasets/wordsforthewise/lending-club). Para obtener información más actualizada, habría que ser miembro del Club y obtenerla directamente (https://www.lendingclub.com/). Sin emabrgo, dada la longitud y tamaño de la base de datos (más de 1 GB) usaremos un dataset más reducido con datos de 2012 y que usan, a modo de ejemplo, para el servicio SageMaker de Amazon Web Services (AWS).\n",
    "\n",
    "Los datos se componen de 2 dataset en formato csv con las siguientes columnas.\n",
    "\n",
    "Dataset 1:\n",
    "\n",
    "* id: número de identificación del préstamo\n",
    "* loan_status: estado actual del préstamo (normalmente 3 estados: fully paid, charged off, current)\n",
    "* loan_amount: importe concedido del préstamo\n",
    "* funded_amount_by_investors: monto recibido efectivamente por el prestatario (deducidas las comisiones de apertura)\n",
    "* loan_term: número de pagos del préstamo en meses (36 o 60)\n",
    "* interest_rate: tipo de interés del préstamo\n",
    "* installment: cuota mensual del préstamo\n",
    "* grade: grado clasificación dado por LC (Lending Club)\n",
    "* subgrade: subgrado otorgado por LC\n",
    "* verification_status: indica si los ingresos del prestatario han sido verificados por LC\n",
    "* issued_on: fecha de emisión del préstamo\n",
    "* purpose: propósito del préstamo (coche, negocio, tarjeta, etc)\n",
    "* dti: ratio que divide el pago total de cuotas en préstamos del prestatario sobre el total de ingresos mensuales, excluyendo el pago de la hipoteca.\n",
    "* inquiries_last_six_months: númeo de consultas del prestatario en los últimos 6 meses\n",
    "* open_credit_lines: número de préstamos del prestatario abiertas.\n",
    "* derogatory_public_records: número de registros públicos negativos\n",
    "* revolving_line_utilization_rate: tasa de uso de crédito en tarjetas revolving\n",
    "* total_credit_lines: total de créditos del pretatario en la base de datos\n",
    "\n",
    "Dataset 2:\n",
    "\n",
    "* id: número de identificación del préstamo\n",
    "* employment_length: tiempo que el prestario ha estado trabajando en años (entre 0 y 10, si es más se le asigna 10)\n",
    "* employer_title: nombre del empleo del prestatario\n",
    "* home_ownership: (own= vivienda en propiedad, rent: alquilada)\n",
    "* annual_income: ingresos anuales del prestatario\n",
    "\n",
    "Ambos dataset tienen 39717 filas de datos"
   ]
  },
  {
   "cell_type": "markdown",
   "metadata": {},
   "source": [
    "#### Hipótesis de nuestro proyecto\n",
    "\n",
    "En nuestro poyecto nos centraremos en averiguar si existe alguna variable o conjunto de variables que expliquen mejor que otras la probabilidad de que un préstamo sea impagado. En concreto, nos centraremos en el estudio de las siguientes variables que podrían explicar el impago del préstamo:\n",
    "\n",
    "1. El tipo de interés aplicado\n",
    "2. El ratio dti (cuotas pagadas en préstamo / ingresos totales)\n",
    "3. El grado de uso del crédito en tarjetas revolving\n",
    "4. El tiempo que lleva empleado.\n",
    "5. Si tiene una casa en propiedad o alquilada\n",
    "6. El propósito para el que se concedió el préstamo\n",
    "7. Los ingresos anuales del prestatario."
   ]
  },
  {
   "cell_type": "markdown",
   "metadata": {},
   "source": [
    "## OBTENCIÓN DE LOS DATOS\n",
    "\n",
    "### DATASETS Y FUENTES ALTERNATIVAS DE DATOS\n",
    "\n",
    "Los datos están disponibles en la web del servicio de Amazon SageMaker de AWS como ejemplo para la demostración de sus servicios.\n",
    "\n",
    "En concreto las url de cada dataset son las siguientes:\n",
    "\n",
    "[Dataset 1](https://static.us-east-1.prod.workshops.aws/public/794937ea-b720-4c4b-821c-6535c6b64079/static/datasets/loans-part-1.csv)\n",
    "\n",
    "[Dataset 2](https://static.us-east-1.prod.workshops.aws/public/794937ea-b720-4c4b-821c-6535c6b64079/static/datasets/loans-part-2.csv)"
   ]
  },
  {
   "cell_type": "code",
   "execution_count": 1,
   "metadata": {},
   "outputs": [],
   "source": [
    "# Importamos las librerías Python que vamos a necesitar en nuestro estudio\n",
    "\n",
    "import pandas as pd\n",
    "import numpy as np\n",
    "import matplotlib.pyplot as plt\n",
    "import seaborn as sns\n",
    "from scipy import stats"
   ]
  },
  {
   "cell_type": "markdown",
   "metadata": {},
   "source": [
    "Empezamos viendo el contenido de cada uno de los dataset (columnas, tipo de datos en cada columna, posible existencia de valores nulos o el número de filas de cada dataset)"
   ]
  },
  {
   "cell_type": "code",
   "execution_count": 2,
   "metadata": {},
   "outputs": [],
   "source": [
    "df_normal_1= pd.read_csv('../data/raw/loans-part-1.csv')"
   ]
  },
  {
   "cell_type": "code",
   "execution_count": 3,
   "metadata": {},
   "outputs": [
    {
     "data": {
      "text/html": [
       "<div>\n",
       "<style scoped>\n",
       "    .dataframe tbody tr th:only-of-type {\n",
       "        vertical-align: middle;\n",
       "    }\n",
       "\n",
       "    .dataframe tbody tr th {\n",
       "        vertical-align: top;\n",
       "    }\n",
       "\n",
       "    .dataframe thead th {\n",
       "        text-align: right;\n",
       "    }\n",
       "</style>\n",
       "<table border=\"1\" class=\"dataframe\">\n",
       "  <thead>\n",
       "    <tr style=\"text-align: right;\">\n",
       "      <th></th>\n",
       "      <th>id</th>\n",
       "      <th>loan_status</th>\n",
       "      <th>loan_amount</th>\n",
       "      <th>funded_amount_by_investors</th>\n",
       "      <th>loan_term</th>\n",
       "      <th>interest_rate</th>\n",
       "      <th>installment</th>\n",
       "      <th>grade</th>\n",
       "      <th>sub_grade</th>\n",
       "      <th>verification_status</th>\n",
       "      <th>issued_on</th>\n",
       "      <th>purpose</th>\n",
       "      <th>dti</th>\n",
       "      <th>inquiries_last_6_months</th>\n",
       "      <th>open_credit_lines</th>\n",
       "      <th>derogatory_public_records</th>\n",
       "      <th>revolving_line_utilization_rate</th>\n",
       "      <th>total_credit_lines</th>\n",
       "    </tr>\n",
       "  </thead>\n",
       "  <tbody>\n",
       "    <tr>\n",
       "      <th>0</th>\n",
       "      <td>1077501</td>\n",
       "      <td>fully paid</td>\n",
       "      <td>5000</td>\n",
       "      <td>4975.0</td>\n",
       "      <td>36</td>\n",
       "      <td>10.65</td>\n",
       "      <td>162.87</td>\n",
       "      <td>b</td>\n",
       "      <td>b2</td>\n",
       "      <td>verified</td>\n",
       "      <td>2011-12-01</td>\n",
       "      <td>credit_card</td>\n",
       "      <td>27.65</td>\n",
       "      <td>1</td>\n",
       "      <td>3</td>\n",
       "      <td>0</td>\n",
       "      <td>83.7</td>\n",
       "      <td>9</td>\n",
       "    </tr>\n",
       "    <tr>\n",
       "      <th>1</th>\n",
       "      <td>1077430</td>\n",
       "      <td>charged off</td>\n",
       "      <td>2500</td>\n",
       "      <td>2500.0</td>\n",
       "      <td>60</td>\n",
       "      <td>15.27</td>\n",
       "      <td>59.83</td>\n",
       "      <td>c</td>\n",
       "      <td>c4</td>\n",
       "      <td>source verified</td>\n",
       "      <td>2011-12-01</td>\n",
       "      <td>car</td>\n",
       "      <td>1.00</td>\n",
       "      <td>5</td>\n",
       "      <td>3</td>\n",
       "      <td>0</td>\n",
       "      <td>9.4</td>\n",
       "      <td>4</td>\n",
       "    </tr>\n",
       "    <tr>\n",
       "      <th>2</th>\n",
       "      <td>1077175</td>\n",
       "      <td>fully paid</td>\n",
       "      <td>2400</td>\n",
       "      <td>2400.0</td>\n",
       "      <td>36</td>\n",
       "      <td>15.96</td>\n",
       "      <td>84.33</td>\n",
       "      <td>c</td>\n",
       "      <td>c5</td>\n",
       "      <td>not verified</td>\n",
       "      <td>2011-12-01</td>\n",
       "      <td>small_business</td>\n",
       "      <td>8.72</td>\n",
       "      <td>2</td>\n",
       "      <td>2</td>\n",
       "      <td>0</td>\n",
       "      <td>98.5</td>\n",
       "      <td>10</td>\n",
       "    </tr>\n",
       "    <tr>\n",
       "      <th>3</th>\n",
       "      <td>1076863</td>\n",
       "      <td>fully paid</td>\n",
       "      <td>10000</td>\n",
       "      <td>10000.0</td>\n",
       "      <td>36</td>\n",
       "      <td>13.49</td>\n",
       "      <td>339.31</td>\n",
       "      <td>c</td>\n",
       "      <td>c1</td>\n",
       "      <td>source verified</td>\n",
       "      <td>2011-12-01</td>\n",
       "      <td>other</td>\n",
       "      <td>20.00</td>\n",
       "      <td>1</td>\n",
       "      <td>10</td>\n",
       "      <td>0</td>\n",
       "      <td>21.0</td>\n",
       "      <td>37</td>\n",
       "    </tr>\n",
       "    <tr>\n",
       "      <th>4</th>\n",
       "      <td>1075358</td>\n",
       "      <td>current</td>\n",
       "      <td>3000</td>\n",
       "      <td>3000.0</td>\n",
       "      <td>60</td>\n",
       "      <td>12.69</td>\n",
       "      <td>67.79</td>\n",
       "      <td>b</td>\n",
       "      <td>b5</td>\n",
       "      <td>source verified</td>\n",
       "      <td>2011-12-01</td>\n",
       "      <td>other</td>\n",
       "      <td>17.94</td>\n",
       "      <td>0</td>\n",
       "      <td>15</td>\n",
       "      <td>0</td>\n",
       "      <td>53.9</td>\n",
       "      <td>38</td>\n",
       "    </tr>\n",
       "    <tr>\n",
       "      <th>5</th>\n",
       "      <td>1075269</td>\n",
       "      <td>fully paid</td>\n",
       "      <td>5000</td>\n",
       "      <td>5000.0</td>\n",
       "      <td>36</td>\n",
       "      <td>7.90</td>\n",
       "      <td>156.46</td>\n",
       "      <td>a</td>\n",
       "      <td>a4</td>\n",
       "      <td>source verified</td>\n",
       "      <td>2011-12-01</td>\n",
       "      <td>wedding</td>\n",
       "      <td>11.20</td>\n",
       "      <td>3</td>\n",
       "      <td>9</td>\n",
       "      <td>0</td>\n",
       "      <td>28.3</td>\n",
       "      <td>12</td>\n",
       "    </tr>\n",
       "    <tr>\n",
       "      <th>6</th>\n",
       "      <td>1069639</td>\n",
       "      <td>fully paid</td>\n",
       "      <td>7000</td>\n",
       "      <td>7000.0</td>\n",
       "      <td>60</td>\n",
       "      <td>15.96</td>\n",
       "      <td>170.08</td>\n",
       "      <td>c</td>\n",
       "      <td>c5</td>\n",
       "      <td>not verified</td>\n",
       "      <td>2011-12-01</td>\n",
       "      <td>debt_consolidation</td>\n",
       "      <td>23.51</td>\n",
       "      <td>1</td>\n",
       "      <td>7</td>\n",
       "      <td>0</td>\n",
       "      <td>85.6</td>\n",
       "      <td>11</td>\n",
       "    </tr>\n",
       "    <tr>\n",
       "      <th>7</th>\n",
       "      <td>1072053</td>\n",
       "      <td>fully paid</td>\n",
       "      <td>3000</td>\n",
       "      <td>3000.0</td>\n",
       "      <td>36</td>\n",
       "      <td>18.64</td>\n",
       "      <td>109.43</td>\n",
       "      <td>e</td>\n",
       "      <td>e1</td>\n",
       "      <td>source verified</td>\n",
       "      <td>2011-12-01</td>\n",
       "      <td>car</td>\n",
       "      <td>5.35</td>\n",
       "      <td>2</td>\n",
       "      <td>4</td>\n",
       "      <td>0</td>\n",
       "      <td>87.5</td>\n",
       "      <td>4</td>\n",
       "    </tr>\n",
       "    <tr>\n",
       "      <th>8</th>\n",
       "      <td>1071795</td>\n",
       "      <td>charged off</td>\n",
       "      <td>5600</td>\n",
       "      <td>5600.0</td>\n",
       "      <td>60</td>\n",
       "      <td>21.28</td>\n",
       "      <td>152.39</td>\n",
       "      <td>f</td>\n",
       "      <td>f2</td>\n",
       "      <td>source verified</td>\n",
       "      <td>2011-12-01</td>\n",
       "      <td>small_business</td>\n",
       "      <td>5.55</td>\n",
       "      <td>2</td>\n",
       "      <td>11</td>\n",
       "      <td>0</td>\n",
       "      <td>32.6</td>\n",
       "      <td>13</td>\n",
       "    </tr>\n",
       "    <tr>\n",
       "      <th>9</th>\n",
       "      <td>1071570</td>\n",
       "      <td>charged off</td>\n",
       "      <td>5375</td>\n",
       "      <td>5350.0</td>\n",
       "      <td>60</td>\n",
       "      <td>12.69</td>\n",
       "      <td>121.45</td>\n",
       "      <td>b</td>\n",
       "      <td>b5</td>\n",
       "      <td>verified</td>\n",
       "      <td>2011-12-01</td>\n",
       "      <td>other</td>\n",
       "      <td>18.08</td>\n",
       "      <td>0</td>\n",
       "      <td>2</td>\n",
       "      <td>0</td>\n",
       "      <td>36.5</td>\n",
       "      <td>3</td>\n",
       "    </tr>\n",
       "  </tbody>\n",
       "</table>\n",
       "</div>"
      ],
      "text/plain": [
       "        id  loan_status  loan_amount  funded_amount_by_investors  loan_term  \\\n",
       "0  1077501   fully paid         5000                      4975.0         36   \n",
       "1  1077430  charged off         2500                      2500.0         60   \n",
       "2  1077175   fully paid         2400                      2400.0         36   \n",
       "3  1076863   fully paid        10000                     10000.0         36   \n",
       "4  1075358      current         3000                      3000.0         60   \n",
       "5  1075269   fully paid         5000                      5000.0         36   \n",
       "6  1069639   fully paid         7000                      7000.0         60   \n",
       "7  1072053   fully paid         3000                      3000.0         36   \n",
       "8  1071795  charged off         5600                      5600.0         60   \n",
       "9  1071570  charged off         5375                      5350.0         60   \n",
       "\n",
       "   interest_rate  installment grade sub_grade verification_status   issued_on  \\\n",
       "0          10.65       162.87     b        b2            verified  2011-12-01   \n",
       "1          15.27        59.83     c        c4     source verified  2011-12-01   \n",
       "2          15.96        84.33     c        c5        not verified  2011-12-01   \n",
       "3          13.49       339.31     c        c1     source verified  2011-12-01   \n",
       "4          12.69        67.79     b        b5     source verified  2011-12-01   \n",
       "5           7.90       156.46     a        a4     source verified  2011-12-01   \n",
       "6          15.96       170.08     c        c5        not verified  2011-12-01   \n",
       "7          18.64       109.43     e        e1     source verified  2011-12-01   \n",
       "8          21.28       152.39     f        f2     source verified  2011-12-01   \n",
       "9          12.69       121.45     b        b5            verified  2011-12-01   \n",
       "\n",
       "              purpose    dti  inquiries_last_6_months  open_credit_lines  \\\n",
       "0         credit_card  27.65                        1                  3   \n",
       "1                 car   1.00                        5                  3   \n",
       "2      small_business   8.72                        2                  2   \n",
       "3               other  20.00                        1                 10   \n",
       "4               other  17.94                        0                 15   \n",
       "5             wedding  11.20                        3                  9   \n",
       "6  debt_consolidation  23.51                        1                  7   \n",
       "7                 car   5.35                        2                  4   \n",
       "8      small_business   5.55                        2                 11   \n",
       "9               other  18.08                        0                  2   \n",
       "\n",
       "   derogatory_public_records  revolving_line_utilization_rate  \\\n",
       "0                          0                             83.7   \n",
       "1                          0                              9.4   \n",
       "2                          0                             98.5   \n",
       "3                          0                             21.0   \n",
       "4                          0                             53.9   \n",
       "5                          0                             28.3   \n",
       "6                          0                             85.6   \n",
       "7                          0                             87.5   \n",
       "8                          0                             32.6   \n",
       "9                          0                             36.5   \n",
       "\n",
       "   total_credit_lines  \n",
       "0                   9  \n",
       "1                   4  \n",
       "2                  10  \n",
       "3                  37  \n",
       "4                  38  \n",
       "5                  12  \n",
       "6                  11  \n",
       "7                   4  \n",
       "8                  13  \n",
       "9                   3  "
      ]
     },
     "execution_count": 3,
     "metadata": {},
     "output_type": "execute_result"
    }
   ],
   "source": [
    "df_normal_1.head(10)"
   ]
  },
  {
   "cell_type": "code",
   "execution_count": 4,
   "metadata": {},
   "outputs": [
    {
     "data": {
      "text/plain": [
       "(39717, 18)"
      ]
     },
     "execution_count": 4,
     "metadata": {},
     "output_type": "execute_result"
    }
   ],
   "source": [
    "df_normal_1.shape"
   ]
  },
  {
   "cell_type": "code",
   "execution_count": 5,
   "metadata": {},
   "outputs": [
    {
     "name": "stdout",
     "output_type": "stream",
     "text": [
      "<class 'pandas.core.frame.DataFrame'>\n",
      "RangeIndex: 39717 entries, 0 to 39716\n",
      "Data columns (total 18 columns):\n",
      " #   Column                           Non-Null Count  Dtype  \n",
      "---  ------                           --------------  -----  \n",
      " 0   id                               39717 non-null  int64  \n",
      " 1   loan_status                      39717 non-null  object \n",
      " 2   loan_amount                      39717 non-null  int64  \n",
      " 3   funded_amount_by_investors       39717 non-null  float64\n",
      " 4   loan_term                        39717 non-null  int64  \n",
      " 5   interest_rate                    39717 non-null  float64\n",
      " 6   installment                      39717 non-null  float64\n",
      " 7   grade                            39717 non-null  object \n",
      " 8   sub_grade                        39717 non-null  object \n",
      " 9   verification_status              39717 non-null  object \n",
      " 10  issued_on                        39717 non-null  object \n",
      " 11  purpose                          39717 non-null  object \n",
      " 12  dti                              39717 non-null  float64\n",
      " 13  inquiries_last_6_months          39717 non-null  int64  \n",
      " 14  open_credit_lines                39717 non-null  int64  \n",
      " 15  derogatory_public_records        39717 non-null  int64  \n",
      " 16  revolving_line_utilization_rate  39667 non-null  float64\n",
      " 17  total_credit_lines               39717 non-null  int64  \n",
      "dtypes: float64(5), int64(7), object(6)\n",
      "memory usage: 5.5+ MB\n"
     ]
    }
   ],
   "source": [
    "df_normal_1.info()"
   ]
  },
  {
   "cell_type": "code",
   "execution_count": 3,
   "metadata": {},
   "outputs": [
    {
     "data": {
      "text/html": [
       "<div>\n",
       "<style scoped>\n",
       "    .dataframe tbody tr th:only-of-type {\n",
       "        vertical-align: middle;\n",
       "    }\n",
       "\n",
       "    .dataframe tbody tr th {\n",
       "        vertical-align: top;\n",
       "    }\n",
       "\n",
       "    .dataframe thead th {\n",
       "        text-align: right;\n",
       "    }\n",
       "</style>\n",
       "<table border=\"1\" class=\"dataframe\">\n",
       "  <thead>\n",
       "    <tr style=\"text-align: right;\">\n",
       "      <th></th>\n",
       "      <th>id</th>\n",
       "      <th>employment_length</th>\n",
       "      <th>employer_title</th>\n",
       "      <th>home_ownership</th>\n",
       "      <th>annual_income</th>\n",
       "    </tr>\n",
       "  </thead>\n",
       "  <tbody>\n",
       "    <tr>\n",
       "      <th>0</th>\n",
       "      <td>1077501</td>\n",
       "      <td>10.0</td>\n",
       "      <td>NaN</td>\n",
       "      <td>rent</td>\n",
       "      <td>24000.0</td>\n",
       "    </tr>\n",
       "    <tr>\n",
       "      <th>1</th>\n",
       "      <td>1077430</td>\n",
       "      <td>1.0</td>\n",
       "      <td>ryder</td>\n",
       "      <td>rent</td>\n",
       "      <td>30000.0</td>\n",
       "    </tr>\n",
       "    <tr>\n",
       "      <th>2</th>\n",
       "      <td>1077175</td>\n",
       "      <td>10.0</td>\n",
       "      <td>NaN</td>\n",
       "      <td>rent</td>\n",
       "      <td>12252.0</td>\n",
       "    </tr>\n",
       "    <tr>\n",
       "      <th>3</th>\n",
       "      <td>1076863</td>\n",
       "      <td>10.0</td>\n",
       "      <td>air resources board</td>\n",
       "      <td>rent</td>\n",
       "      <td>49200.0</td>\n",
       "    </tr>\n",
       "    <tr>\n",
       "      <th>4</th>\n",
       "      <td>1075358</td>\n",
       "      <td>1.0</td>\n",
       "      <td>university medical group</td>\n",
       "      <td>rent</td>\n",
       "      <td>80000.0</td>\n",
       "    </tr>\n",
       "    <tr>\n",
       "      <th>5</th>\n",
       "      <td>1075269</td>\n",
       "      <td>3.0</td>\n",
       "      <td>veolia transportaton</td>\n",
       "      <td>rent</td>\n",
       "      <td>36000.0</td>\n",
       "    </tr>\n",
       "    <tr>\n",
       "      <th>6</th>\n",
       "      <td>1069639</td>\n",
       "      <td>8.0</td>\n",
       "      <td>southern star photography</td>\n",
       "      <td>rent</td>\n",
       "      <td>47004.0</td>\n",
       "    </tr>\n",
       "    <tr>\n",
       "      <th>7</th>\n",
       "      <td>1072053</td>\n",
       "      <td>9.0</td>\n",
       "      <td>mkc accounting</td>\n",
       "      <td>rent</td>\n",
       "      <td>48000.0</td>\n",
       "    </tr>\n",
       "    <tr>\n",
       "      <th>8</th>\n",
       "      <td>1071795</td>\n",
       "      <td>4.0</td>\n",
       "      <td>NaN</td>\n",
       "      <td>own</td>\n",
       "      <td>40000.0</td>\n",
       "    </tr>\n",
       "    <tr>\n",
       "      <th>9</th>\n",
       "      <td>1071570</td>\n",
       "      <td>1.0</td>\n",
       "      <td>starbucks</td>\n",
       "      <td>rent</td>\n",
       "      <td>15000.0</td>\n",
       "    </tr>\n",
       "  </tbody>\n",
       "</table>\n",
       "</div>"
      ],
      "text/plain": [
       "        id  employment_length             employer_title home_ownership  \\\n",
       "0  1077501               10.0                        NaN           rent   \n",
       "1  1077430                1.0                      ryder           rent   \n",
       "2  1077175               10.0                        NaN           rent   \n",
       "3  1076863               10.0        air resources board           rent   \n",
       "4  1075358                1.0   university medical group           rent   \n",
       "5  1075269                3.0       veolia transportaton           rent   \n",
       "6  1069639                8.0  southern star photography           rent   \n",
       "7  1072053                9.0             mkc accounting           rent   \n",
       "8  1071795                4.0                        NaN            own   \n",
       "9  1071570                1.0                  starbucks           rent   \n",
       "\n",
       "   annual_income  \n",
       "0        24000.0  \n",
       "1        30000.0  \n",
       "2        12252.0  \n",
       "3        49200.0  \n",
       "4        80000.0  \n",
       "5        36000.0  \n",
       "6        47004.0  \n",
       "7        48000.0  \n",
       "8        40000.0  \n",
       "9        15000.0  "
      ]
     },
     "execution_count": 3,
     "metadata": {},
     "output_type": "execute_result"
    }
   ],
   "source": [
    "df_normal_2 = pd.read_csv('../data/raw/loans-part-2.csv')\n",
    "\n",
    "df_normal_2.head(10)"
   ]
  },
  {
   "cell_type": "code",
   "execution_count": 7,
   "metadata": {},
   "outputs": [
    {
     "data": {
      "text/plain": [
       "(39717, 5)"
      ]
     },
     "execution_count": 7,
     "metadata": {},
     "output_type": "execute_result"
    }
   ],
   "source": [
    "df_normal_2.shape"
   ]
  },
  {
   "cell_type": "code",
   "execution_count": 8,
   "metadata": {},
   "outputs": [
    {
     "name": "stdout",
     "output_type": "stream",
     "text": [
      "<class 'pandas.core.frame.DataFrame'>\n",
      "RangeIndex: 39717 entries, 0 to 39716\n",
      "Data columns (total 5 columns):\n",
      " #   Column             Non-Null Count  Dtype  \n",
      "---  ------             --------------  -----  \n",
      " 0   id                 39717 non-null  int64  \n",
      " 1   employment_length  38642 non-null  float64\n",
      " 2   employer_title     37258 non-null  object \n",
      " 3   home_ownership     39717 non-null  object \n",
      " 4   annual_income      39717 non-null  float64\n",
      "dtypes: float64(2), int64(1), object(2)\n",
      "memory usage: 1.5+ MB\n"
     ]
    }
   ],
   "source": [
    "df_normal_2.info()"
   ]
  },
  {
   "cell_type": "markdown",
   "metadata": {},
   "source": [
    "De este primer análisis, parece inferirse que el dataset 2 es una continuación del dataset 1, y que parece tener los mismos id. \n",
    "\n",
    "Comprobamos que las columnas id de ambos dataset son iguales"
   ]
  },
  {
   "cell_type": "code",
   "execution_count": 9,
   "metadata": {},
   "outputs": [
    {
     "name": "stdout",
     "output_type": "stream",
     "text": [
      "Ambos dataset tienen exactamente los mismos índices\n"
     ]
    }
   ],
   "source": [
    "if df_normal_1.index.equals(df_normal_2.index):\n",
    "    print('Ambos dataset tienen exactamente los mismos índices')\n",
    "else:\n",
    "    print('Los dataset no tienen los mismos índices')"
   ]
  },
  {
   "cell_type": "markdown",
   "metadata": {},
   "source": [
    "Comprobado que efectivamente ambos dataset tienen los mismos índices, procedemos a hacer un merge de los mismos para trabajar con un solo Dataframe"
   ]
  },
  {
   "cell_type": "code",
   "execution_count": 10,
   "metadata": {},
   "outputs": [],
   "source": [
    "df_loans = df_normal_1.merge(df_normal_2, on='id')"
   ]
  },
  {
   "cell_type": "markdown",
   "metadata": {},
   "source": [
    "Comenzamos a viendo un detalle de las primeras 10 columnas del dataset para comprobar que todas las columnas se ha unido correctamente"
   ]
  },
  {
   "cell_type": "code",
   "execution_count": 11,
   "metadata": {},
   "outputs": [
    {
     "data": {
      "text/html": [
       "<div>\n",
       "<style scoped>\n",
       "    .dataframe tbody tr th:only-of-type {\n",
       "        vertical-align: middle;\n",
       "    }\n",
       "\n",
       "    .dataframe tbody tr th {\n",
       "        vertical-align: top;\n",
       "    }\n",
       "\n",
       "    .dataframe thead th {\n",
       "        text-align: right;\n",
       "    }\n",
       "</style>\n",
       "<table border=\"1\" class=\"dataframe\">\n",
       "  <thead>\n",
       "    <tr style=\"text-align: right;\">\n",
       "      <th></th>\n",
       "      <th>id</th>\n",
       "      <th>loan_status</th>\n",
       "      <th>loan_amount</th>\n",
       "      <th>funded_amount_by_investors</th>\n",
       "      <th>loan_term</th>\n",
       "      <th>interest_rate</th>\n",
       "      <th>installment</th>\n",
       "      <th>grade</th>\n",
       "      <th>sub_grade</th>\n",
       "      <th>verification_status</th>\n",
       "      <th>...</th>\n",
       "      <th>dti</th>\n",
       "      <th>inquiries_last_6_months</th>\n",
       "      <th>open_credit_lines</th>\n",
       "      <th>derogatory_public_records</th>\n",
       "      <th>revolving_line_utilization_rate</th>\n",
       "      <th>total_credit_lines</th>\n",
       "      <th>employment_length</th>\n",
       "      <th>employer_title</th>\n",
       "      <th>home_ownership</th>\n",
       "      <th>annual_income</th>\n",
       "    </tr>\n",
       "  </thead>\n",
       "  <tbody>\n",
       "    <tr>\n",
       "      <th>0</th>\n",
       "      <td>1077501</td>\n",
       "      <td>fully paid</td>\n",
       "      <td>5000</td>\n",
       "      <td>4975.0</td>\n",
       "      <td>36</td>\n",
       "      <td>10.65</td>\n",
       "      <td>162.87</td>\n",
       "      <td>b</td>\n",
       "      <td>b2</td>\n",
       "      <td>verified</td>\n",
       "      <td>...</td>\n",
       "      <td>27.65</td>\n",
       "      <td>1</td>\n",
       "      <td>3</td>\n",
       "      <td>0</td>\n",
       "      <td>83.7</td>\n",
       "      <td>9</td>\n",
       "      <td>10.0</td>\n",
       "      <td>NaN</td>\n",
       "      <td>rent</td>\n",
       "      <td>24000.0</td>\n",
       "    </tr>\n",
       "    <tr>\n",
       "      <th>1</th>\n",
       "      <td>1077430</td>\n",
       "      <td>charged off</td>\n",
       "      <td>2500</td>\n",
       "      <td>2500.0</td>\n",
       "      <td>60</td>\n",
       "      <td>15.27</td>\n",
       "      <td>59.83</td>\n",
       "      <td>c</td>\n",
       "      <td>c4</td>\n",
       "      <td>source verified</td>\n",
       "      <td>...</td>\n",
       "      <td>1.00</td>\n",
       "      <td>5</td>\n",
       "      <td>3</td>\n",
       "      <td>0</td>\n",
       "      <td>9.4</td>\n",
       "      <td>4</td>\n",
       "      <td>1.0</td>\n",
       "      <td>ryder</td>\n",
       "      <td>rent</td>\n",
       "      <td>30000.0</td>\n",
       "    </tr>\n",
       "    <tr>\n",
       "      <th>2</th>\n",
       "      <td>1077175</td>\n",
       "      <td>fully paid</td>\n",
       "      <td>2400</td>\n",
       "      <td>2400.0</td>\n",
       "      <td>36</td>\n",
       "      <td>15.96</td>\n",
       "      <td>84.33</td>\n",
       "      <td>c</td>\n",
       "      <td>c5</td>\n",
       "      <td>not verified</td>\n",
       "      <td>...</td>\n",
       "      <td>8.72</td>\n",
       "      <td>2</td>\n",
       "      <td>2</td>\n",
       "      <td>0</td>\n",
       "      <td>98.5</td>\n",
       "      <td>10</td>\n",
       "      <td>10.0</td>\n",
       "      <td>NaN</td>\n",
       "      <td>rent</td>\n",
       "      <td>12252.0</td>\n",
       "    </tr>\n",
       "    <tr>\n",
       "      <th>3</th>\n",
       "      <td>1076863</td>\n",
       "      <td>fully paid</td>\n",
       "      <td>10000</td>\n",
       "      <td>10000.0</td>\n",
       "      <td>36</td>\n",
       "      <td>13.49</td>\n",
       "      <td>339.31</td>\n",
       "      <td>c</td>\n",
       "      <td>c1</td>\n",
       "      <td>source verified</td>\n",
       "      <td>...</td>\n",
       "      <td>20.00</td>\n",
       "      <td>1</td>\n",
       "      <td>10</td>\n",
       "      <td>0</td>\n",
       "      <td>21.0</td>\n",
       "      <td>37</td>\n",
       "      <td>10.0</td>\n",
       "      <td>air resources board</td>\n",
       "      <td>rent</td>\n",
       "      <td>49200.0</td>\n",
       "    </tr>\n",
       "    <tr>\n",
       "      <th>4</th>\n",
       "      <td>1075358</td>\n",
       "      <td>current</td>\n",
       "      <td>3000</td>\n",
       "      <td>3000.0</td>\n",
       "      <td>60</td>\n",
       "      <td>12.69</td>\n",
       "      <td>67.79</td>\n",
       "      <td>b</td>\n",
       "      <td>b5</td>\n",
       "      <td>source verified</td>\n",
       "      <td>...</td>\n",
       "      <td>17.94</td>\n",
       "      <td>0</td>\n",
       "      <td>15</td>\n",
       "      <td>0</td>\n",
       "      <td>53.9</td>\n",
       "      <td>38</td>\n",
       "      <td>1.0</td>\n",
       "      <td>university medical group</td>\n",
       "      <td>rent</td>\n",
       "      <td>80000.0</td>\n",
       "    </tr>\n",
       "    <tr>\n",
       "      <th>5</th>\n",
       "      <td>1075269</td>\n",
       "      <td>fully paid</td>\n",
       "      <td>5000</td>\n",
       "      <td>5000.0</td>\n",
       "      <td>36</td>\n",
       "      <td>7.90</td>\n",
       "      <td>156.46</td>\n",
       "      <td>a</td>\n",
       "      <td>a4</td>\n",
       "      <td>source verified</td>\n",
       "      <td>...</td>\n",
       "      <td>11.20</td>\n",
       "      <td>3</td>\n",
       "      <td>9</td>\n",
       "      <td>0</td>\n",
       "      <td>28.3</td>\n",
       "      <td>12</td>\n",
       "      <td>3.0</td>\n",
       "      <td>veolia transportaton</td>\n",
       "      <td>rent</td>\n",
       "      <td>36000.0</td>\n",
       "    </tr>\n",
       "    <tr>\n",
       "      <th>6</th>\n",
       "      <td>1069639</td>\n",
       "      <td>fully paid</td>\n",
       "      <td>7000</td>\n",
       "      <td>7000.0</td>\n",
       "      <td>60</td>\n",
       "      <td>15.96</td>\n",
       "      <td>170.08</td>\n",
       "      <td>c</td>\n",
       "      <td>c5</td>\n",
       "      <td>not verified</td>\n",
       "      <td>...</td>\n",
       "      <td>23.51</td>\n",
       "      <td>1</td>\n",
       "      <td>7</td>\n",
       "      <td>0</td>\n",
       "      <td>85.6</td>\n",
       "      <td>11</td>\n",
       "      <td>8.0</td>\n",
       "      <td>southern star photography</td>\n",
       "      <td>rent</td>\n",
       "      <td>47004.0</td>\n",
       "    </tr>\n",
       "    <tr>\n",
       "      <th>7</th>\n",
       "      <td>1072053</td>\n",
       "      <td>fully paid</td>\n",
       "      <td>3000</td>\n",
       "      <td>3000.0</td>\n",
       "      <td>36</td>\n",
       "      <td>18.64</td>\n",
       "      <td>109.43</td>\n",
       "      <td>e</td>\n",
       "      <td>e1</td>\n",
       "      <td>source verified</td>\n",
       "      <td>...</td>\n",
       "      <td>5.35</td>\n",
       "      <td>2</td>\n",
       "      <td>4</td>\n",
       "      <td>0</td>\n",
       "      <td>87.5</td>\n",
       "      <td>4</td>\n",
       "      <td>9.0</td>\n",
       "      <td>mkc accounting</td>\n",
       "      <td>rent</td>\n",
       "      <td>48000.0</td>\n",
       "    </tr>\n",
       "    <tr>\n",
       "      <th>8</th>\n",
       "      <td>1071795</td>\n",
       "      <td>charged off</td>\n",
       "      <td>5600</td>\n",
       "      <td>5600.0</td>\n",
       "      <td>60</td>\n",
       "      <td>21.28</td>\n",
       "      <td>152.39</td>\n",
       "      <td>f</td>\n",
       "      <td>f2</td>\n",
       "      <td>source verified</td>\n",
       "      <td>...</td>\n",
       "      <td>5.55</td>\n",
       "      <td>2</td>\n",
       "      <td>11</td>\n",
       "      <td>0</td>\n",
       "      <td>32.6</td>\n",
       "      <td>13</td>\n",
       "      <td>4.0</td>\n",
       "      <td>NaN</td>\n",
       "      <td>own</td>\n",
       "      <td>40000.0</td>\n",
       "    </tr>\n",
       "    <tr>\n",
       "      <th>9</th>\n",
       "      <td>1071570</td>\n",
       "      <td>charged off</td>\n",
       "      <td>5375</td>\n",
       "      <td>5350.0</td>\n",
       "      <td>60</td>\n",
       "      <td>12.69</td>\n",
       "      <td>121.45</td>\n",
       "      <td>b</td>\n",
       "      <td>b5</td>\n",
       "      <td>verified</td>\n",
       "      <td>...</td>\n",
       "      <td>18.08</td>\n",
       "      <td>0</td>\n",
       "      <td>2</td>\n",
       "      <td>0</td>\n",
       "      <td>36.5</td>\n",
       "      <td>3</td>\n",
       "      <td>1.0</td>\n",
       "      <td>starbucks</td>\n",
       "      <td>rent</td>\n",
       "      <td>15000.0</td>\n",
       "    </tr>\n",
       "  </tbody>\n",
       "</table>\n",
       "<p>10 rows × 22 columns</p>\n",
       "</div>"
      ],
      "text/plain": [
       "        id  loan_status  loan_amount  funded_amount_by_investors  loan_term  \\\n",
       "0  1077501   fully paid         5000                      4975.0         36   \n",
       "1  1077430  charged off         2500                      2500.0         60   \n",
       "2  1077175   fully paid         2400                      2400.0         36   \n",
       "3  1076863   fully paid        10000                     10000.0         36   \n",
       "4  1075358      current         3000                      3000.0         60   \n",
       "5  1075269   fully paid         5000                      5000.0         36   \n",
       "6  1069639   fully paid         7000                      7000.0         60   \n",
       "7  1072053   fully paid         3000                      3000.0         36   \n",
       "8  1071795  charged off         5600                      5600.0         60   \n",
       "9  1071570  charged off         5375                      5350.0         60   \n",
       "\n",
       "   interest_rate  installment grade sub_grade verification_status  ...    dti  \\\n",
       "0          10.65       162.87     b        b2            verified  ...  27.65   \n",
       "1          15.27        59.83     c        c4     source verified  ...   1.00   \n",
       "2          15.96        84.33     c        c5        not verified  ...   8.72   \n",
       "3          13.49       339.31     c        c1     source verified  ...  20.00   \n",
       "4          12.69        67.79     b        b5     source verified  ...  17.94   \n",
       "5           7.90       156.46     a        a4     source verified  ...  11.20   \n",
       "6          15.96       170.08     c        c5        not verified  ...  23.51   \n",
       "7          18.64       109.43     e        e1     source verified  ...   5.35   \n",
       "8          21.28       152.39     f        f2     source verified  ...   5.55   \n",
       "9          12.69       121.45     b        b5            verified  ...  18.08   \n",
       "\n",
       "  inquiries_last_6_months  open_credit_lines  derogatory_public_records  \\\n",
       "0                       1                  3                          0   \n",
       "1                       5                  3                          0   \n",
       "2                       2                  2                          0   \n",
       "3                       1                 10                          0   \n",
       "4                       0                 15                          0   \n",
       "5                       3                  9                          0   \n",
       "6                       1                  7                          0   \n",
       "7                       2                  4                          0   \n",
       "8                       2                 11                          0   \n",
       "9                       0                  2                          0   \n",
       "\n",
       "   revolving_line_utilization_rate  total_credit_lines  employment_length  \\\n",
       "0                             83.7                   9               10.0   \n",
       "1                              9.4                   4                1.0   \n",
       "2                             98.5                  10               10.0   \n",
       "3                             21.0                  37               10.0   \n",
       "4                             53.9                  38                1.0   \n",
       "5                             28.3                  12                3.0   \n",
       "6                             85.6                  11                8.0   \n",
       "7                             87.5                   4                9.0   \n",
       "8                             32.6                  13                4.0   \n",
       "9                             36.5                   3                1.0   \n",
       "\n",
       "              employer_title  home_ownership annual_income  \n",
       "0                        NaN            rent       24000.0  \n",
       "1                      ryder            rent       30000.0  \n",
       "2                        NaN            rent       12252.0  \n",
       "3        air resources board            rent       49200.0  \n",
       "4   university medical group            rent       80000.0  \n",
       "5       veolia transportaton            rent       36000.0  \n",
       "6  southern star photography            rent       47004.0  \n",
       "7             mkc accounting            rent       48000.0  \n",
       "8                        NaN             own       40000.0  \n",
       "9                  starbucks            rent       15000.0  \n",
       "\n",
       "[10 rows x 22 columns]"
      ]
     },
     "execution_count": 11,
     "metadata": {},
     "output_type": "execute_result"
    }
   ],
   "source": [
    "df_loans.head(10)"
   ]
  },
  {
   "cell_type": "markdown",
   "metadata": {},
   "source": [
    "Vemos algunas métricas estadaísticas básicas del dataset, así como el tipo de datos de cada columna y si tenemos valores nulos."
   ]
  },
  {
   "cell_type": "code",
   "execution_count": 12,
   "metadata": {},
   "outputs": [
    {
     "data": {
      "text/plain": [
       "(39717, 22)"
      ]
     },
     "execution_count": 12,
     "metadata": {},
     "output_type": "execute_result"
    }
   ],
   "source": [
    "df_loans.shape"
   ]
  },
  {
   "cell_type": "code",
   "execution_count": 13,
   "metadata": {},
   "outputs": [
    {
     "name": "stdout",
     "output_type": "stream",
     "text": [
      "<class 'pandas.core.frame.DataFrame'>\n",
      "RangeIndex: 39717 entries, 0 to 39716\n",
      "Data columns (total 22 columns):\n",
      " #   Column                           Non-Null Count  Dtype  \n",
      "---  ------                           --------------  -----  \n",
      " 0   id                               39717 non-null  int64  \n",
      " 1   loan_status                      39717 non-null  object \n",
      " 2   loan_amount                      39717 non-null  int64  \n",
      " 3   funded_amount_by_investors       39717 non-null  float64\n",
      " 4   loan_term                        39717 non-null  int64  \n",
      " 5   interest_rate                    39717 non-null  float64\n",
      " 6   installment                      39717 non-null  float64\n",
      " 7   grade                            39717 non-null  object \n",
      " 8   sub_grade                        39717 non-null  object \n",
      " 9   verification_status              39717 non-null  object \n",
      " 10  issued_on                        39717 non-null  object \n",
      " 11  purpose                          39717 non-null  object \n",
      " 12  dti                              39717 non-null  float64\n",
      " 13  inquiries_last_6_months          39717 non-null  int64  \n",
      " 14  open_credit_lines                39717 non-null  int64  \n",
      " 15  derogatory_public_records        39717 non-null  int64  \n",
      " 16  revolving_line_utilization_rate  39667 non-null  float64\n",
      " 17  total_credit_lines               39717 non-null  int64  \n",
      " 18  employment_length                38642 non-null  float64\n",
      " 19  employer_title                   37258 non-null  object \n",
      " 20  home_ownership                   39717 non-null  object \n",
      " 21  annual_income                    39717 non-null  float64\n",
      "dtypes: float64(7), int64(7), object(8)\n",
      "memory usage: 6.7+ MB\n"
     ]
    }
   ],
   "source": [
    "df_loans.info()"
   ]
  },
  {
   "cell_type": "markdown",
   "metadata": {},
   "source": [
    "Vemos las principales métricas de estadística descriptiva de las variables numéricas"
   ]
  },
  {
   "cell_type": "code",
   "execution_count": 14,
   "metadata": {},
   "outputs": [
    {
     "data": {
      "text/html": [
       "<div>\n",
       "<style scoped>\n",
       "    .dataframe tbody tr th:only-of-type {\n",
       "        vertical-align: middle;\n",
       "    }\n",
       "\n",
       "    .dataframe tbody tr th {\n",
       "        vertical-align: top;\n",
       "    }\n",
       "\n",
       "    .dataframe thead th {\n",
       "        text-align: right;\n",
       "    }\n",
       "</style>\n",
       "<table border=\"1\" class=\"dataframe\">\n",
       "  <thead>\n",
       "    <tr style=\"text-align: right;\">\n",
       "      <th></th>\n",
       "      <th>id</th>\n",
       "      <th>loan_amount</th>\n",
       "      <th>funded_amount_by_investors</th>\n",
       "      <th>loan_term</th>\n",
       "      <th>interest_rate</th>\n",
       "      <th>installment</th>\n",
       "      <th>dti</th>\n",
       "      <th>inquiries_last_6_months</th>\n",
       "      <th>open_credit_lines</th>\n",
       "      <th>derogatory_public_records</th>\n",
       "      <th>revolving_line_utilization_rate</th>\n",
       "      <th>total_credit_lines</th>\n",
       "      <th>employment_length</th>\n",
       "      <th>annual_income</th>\n",
       "    </tr>\n",
       "  </thead>\n",
       "  <tbody>\n",
       "    <tr>\n",
       "      <th>count</th>\n",
       "      <td>3.971700e+04</td>\n",
       "      <td>39717.000000</td>\n",
       "      <td>39717.000000</td>\n",
       "      <td>39717.000000</td>\n",
       "      <td>39717.000000</td>\n",
       "      <td>39717.000000</td>\n",
       "      <td>39717.000000</td>\n",
       "      <td>39717.000000</td>\n",
       "      <td>39717.000000</td>\n",
       "      <td>39717.000000</td>\n",
       "      <td>39667.000000</td>\n",
       "      <td>39717.000000</td>\n",
       "      <td>38642.000000</td>\n",
       "      <td>3.971700e+04</td>\n",
       "    </tr>\n",
       "    <tr>\n",
       "      <th>mean</th>\n",
       "      <td>6.831319e+05</td>\n",
       "      <td>11219.443815</td>\n",
       "      <td>10397.448868</td>\n",
       "      <td>42.418007</td>\n",
       "      <td>12.021177</td>\n",
       "      <td>324.561922</td>\n",
       "      <td>13.315130</td>\n",
       "      <td>0.869200</td>\n",
       "      <td>9.294408</td>\n",
       "      <td>0.055065</td>\n",
       "      <td>48.832152</td>\n",
       "      <td>22.088828</td>\n",
       "      <td>5.092050</td>\n",
       "      <td>6.896893e+04</td>\n",
       "    </tr>\n",
       "    <tr>\n",
       "      <th>std</th>\n",
       "      <td>2.106941e+05</td>\n",
       "      <td>7456.670694</td>\n",
       "      <td>7128.450439</td>\n",
       "      <td>10.622815</td>\n",
       "      <td>3.724825</td>\n",
       "      <td>208.874874</td>\n",
       "      <td>6.678594</td>\n",
       "      <td>1.070219</td>\n",
       "      <td>4.400282</td>\n",
       "      <td>0.237200</td>\n",
       "      <td>28.332634</td>\n",
       "      <td>11.401709</td>\n",
       "      <td>3.408338</td>\n",
       "      <td>6.379377e+04</td>\n",
       "    </tr>\n",
       "    <tr>\n",
       "      <th>min</th>\n",
       "      <td>5.473400e+04</td>\n",
       "      <td>500.000000</td>\n",
       "      <td>0.000000</td>\n",
       "      <td>36.000000</td>\n",
       "      <td>5.420000</td>\n",
       "      <td>15.690000</td>\n",
       "      <td>0.000000</td>\n",
       "      <td>0.000000</td>\n",
       "      <td>2.000000</td>\n",
       "      <td>0.000000</td>\n",
       "      <td>0.000000</td>\n",
       "      <td>2.000000</td>\n",
       "      <td>1.000000</td>\n",
       "      <td>4.000000e+03</td>\n",
       "    </tr>\n",
       "    <tr>\n",
       "      <th>25%</th>\n",
       "      <td>5.162210e+05</td>\n",
       "      <td>5500.000000</td>\n",
       "      <td>5000.000000</td>\n",
       "      <td>36.000000</td>\n",
       "      <td>9.250000</td>\n",
       "      <td>167.020000</td>\n",
       "      <td>8.170000</td>\n",
       "      <td>0.000000</td>\n",
       "      <td>6.000000</td>\n",
       "      <td>0.000000</td>\n",
       "      <td>25.400000</td>\n",
       "      <td>13.000000</td>\n",
       "      <td>2.000000</td>\n",
       "      <td>4.040400e+04</td>\n",
       "    </tr>\n",
       "    <tr>\n",
       "      <th>50%</th>\n",
       "      <td>6.656650e+05</td>\n",
       "      <td>10000.000000</td>\n",
       "      <td>8975.000000</td>\n",
       "      <td>36.000000</td>\n",
       "      <td>11.860000</td>\n",
       "      <td>280.220000</td>\n",
       "      <td>13.400000</td>\n",
       "      <td>1.000000</td>\n",
       "      <td>9.000000</td>\n",
       "      <td>0.000000</td>\n",
       "      <td>49.300000</td>\n",
       "      <td>20.000000</td>\n",
       "      <td>4.000000</td>\n",
       "      <td>5.900000e+04</td>\n",
       "    </tr>\n",
       "    <tr>\n",
       "      <th>75%</th>\n",
       "      <td>8.377550e+05</td>\n",
       "      <td>15000.000000</td>\n",
       "      <td>14400.000000</td>\n",
       "      <td>60.000000</td>\n",
       "      <td>14.590000</td>\n",
       "      <td>430.780000</td>\n",
       "      <td>18.600000</td>\n",
       "      <td>1.000000</td>\n",
       "      <td>12.000000</td>\n",
       "      <td>0.000000</td>\n",
       "      <td>72.400000</td>\n",
       "      <td>29.000000</td>\n",
       "      <td>9.000000</td>\n",
       "      <td>8.230000e+04</td>\n",
       "    </tr>\n",
       "    <tr>\n",
       "      <th>max</th>\n",
       "      <td>1.077501e+06</td>\n",
       "      <td>35000.000000</td>\n",
       "      <td>35000.000000</td>\n",
       "      <td>60.000000</td>\n",
       "      <td>24.590000</td>\n",
       "      <td>1305.190000</td>\n",
       "      <td>29.990000</td>\n",
       "      <td>8.000000</td>\n",
       "      <td>44.000000</td>\n",
       "      <td>4.000000</td>\n",
       "      <td>99.900000</td>\n",
       "      <td>90.000000</td>\n",
       "      <td>10.000000</td>\n",
       "      <td>6.000000e+06</td>\n",
       "    </tr>\n",
       "  </tbody>\n",
       "</table>\n",
       "</div>"
      ],
      "text/plain": [
       "                 id   loan_amount  funded_amount_by_investors     loan_term  \\\n",
       "count  3.971700e+04  39717.000000                39717.000000  39717.000000   \n",
       "mean   6.831319e+05  11219.443815                10397.448868     42.418007   \n",
       "std    2.106941e+05   7456.670694                 7128.450439     10.622815   \n",
       "min    5.473400e+04    500.000000                    0.000000     36.000000   \n",
       "25%    5.162210e+05   5500.000000                 5000.000000     36.000000   \n",
       "50%    6.656650e+05  10000.000000                 8975.000000     36.000000   \n",
       "75%    8.377550e+05  15000.000000                14400.000000     60.000000   \n",
       "max    1.077501e+06  35000.000000                35000.000000     60.000000   \n",
       "\n",
       "       interest_rate   installment           dti  inquiries_last_6_months  \\\n",
       "count   39717.000000  39717.000000  39717.000000             39717.000000   \n",
       "mean       12.021177    324.561922     13.315130                 0.869200   \n",
       "std         3.724825    208.874874      6.678594                 1.070219   \n",
       "min         5.420000     15.690000      0.000000                 0.000000   \n",
       "25%         9.250000    167.020000      8.170000                 0.000000   \n",
       "50%        11.860000    280.220000     13.400000                 1.000000   \n",
       "75%        14.590000    430.780000     18.600000                 1.000000   \n",
       "max        24.590000   1305.190000     29.990000                 8.000000   \n",
       "\n",
       "       open_credit_lines  derogatory_public_records  \\\n",
       "count       39717.000000               39717.000000   \n",
       "mean            9.294408                   0.055065   \n",
       "std             4.400282                   0.237200   \n",
       "min             2.000000                   0.000000   \n",
       "25%             6.000000                   0.000000   \n",
       "50%             9.000000                   0.000000   \n",
       "75%            12.000000                   0.000000   \n",
       "max            44.000000                   4.000000   \n",
       "\n",
       "       revolving_line_utilization_rate  total_credit_lines  employment_length  \\\n",
       "count                     39667.000000        39717.000000       38642.000000   \n",
       "mean                         48.832152           22.088828           5.092050   \n",
       "std                          28.332634           11.401709           3.408338   \n",
       "min                           0.000000            2.000000           1.000000   \n",
       "25%                          25.400000           13.000000           2.000000   \n",
       "50%                          49.300000           20.000000           4.000000   \n",
       "75%                          72.400000           29.000000           9.000000   \n",
       "max                          99.900000           90.000000          10.000000   \n",
       "\n",
       "       annual_income  \n",
       "count   3.971700e+04  \n",
       "mean    6.896893e+04  \n",
       "std     6.379377e+04  \n",
       "min     4.000000e+03  \n",
       "25%     4.040400e+04  \n",
       "50%     5.900000e+04  \n",
       "75%     8.230000e+04  \n",
       "max     6.000000e+06  "
      ]
     },
     "execution_count": 14,
     "metadata": {},
     "output_type": "execute_result"
    }
   ],
   "source": [
    "df_loans.describe()"
   ]
  },
  {
   "cell_type": "markdown",
   "metadata": {},
   "source": [
    "Vemos ahora las principales métricas de estadística descriptiva de las variables categóricas."
   ]
  },
  {
   "cell_type": "code",
   "execution_count": 15,
   "metadata": {},
   "outputs": [
    {
     "data": {
      "text/html": [
       "<div>\n",
       "<style scoped>\n",
       "    .dataframe tbody tr th:only-of-type {\n",
       "        vertical-align: middle;\n",
       "    }\n",
       "\n",
       "    .dataframe tbody tr th {\n",
       "        vertical-align: top;\n",
       "    }\n",
       "\n",
       "    .dataframe thead th {\n",
       "        text-align: right;\n",
       "    }\n",
       "</style>\n",
       "<table border=\"1\" class=\"dataframe\">\n",
       "  <thead>\n",
       "    <tr style=\"text-align: right;\">\n",
       "      <th></th>\n",
       "      <th>loan_status</th>\n",
       "      <th>grade</th>\n",
       "      <th>sub_grade</th>\n",
       "      <th>verification_status</th>\n",
       "      <th>issued_on</th>\n",
       "      <th>purpose</th>\n",
       "      <th>employer_title</th>\n",
       "      <th>home_ownership</th>\n",
       "    </tr>\n",
       "  </thead>\n",
       "  <tbody>\n",
       "    <tr>\n",
       "      <th>count</th>\n",
       "      <td>39717</td>\n",
       "      <td>39717</td>\n",
       "      <td>39717</td>\n",
       "      <td>39717</td>\n",
       "      <td>39717</td>\n",
       "      <td>39717</td>\n",
       "      <td>37258</td>\n",
       "      <td>39717</td>\n",
       "    </tr>\n",
       "    <tr>\n",
       "      <th>unique</th>\n",
       "      <td>3</td>\n",
       "      <td>7</td>\n",
       "      <td>35</td>\n",
       "      <td>3</td>\n",
       "      <td>55</td>\n",
       "      <td>14</td>\n",
       "      <td>27209</td>\n",
       "      <td>5</td>\n",
       "    </tr>\n",
       "    <tr>\n",
       "      <th>top</th>\n",
       "      <td>fully paid</td>\n",
       "      <td>b</td>\n",
       "      <td>b3</td>\n",
       "      <td>not verified</td>\n",
       "      <td>2011-12-01</td>\n",
       "      <td>debt_consolidation</td>\n",
       "      <td>us army</td>\n",
       "      <td>rent</td>\n",
       "    </tr>\n",
       "    <tr>\n",
       "      <th>freq</th>\n",
       "      <td>32950</td>\n",
       "      <td>12020</td>\n",
       "      <td>2917</td>\n",
       "      <td>16921</td>\n",
       "      <td>2260</td>\n",
       "      <td>18641</td>\n",
       "      <td>212</td>\n",
       "      <td>18899</td>\n",
       "    </tr>\n",
       "  </tbody>\n",
       "</table>\n",
       "</div>"
      ],
      "text/plain": [
       "       loan_status  grade sub_grade verification_status   issued_on  \\\n",
       "count        39717  39717     39717               39717       39717   \n",
       "unique           3      7        35                   3          55   \n",
       "top     fully paid      b        b3        not verified  2011-12-01   \n",
       "freq         32950  12020      2917               16921        2260   \n",
       "\n",
       "                   purpose employer_title home_ownership  \n",
       "count                39717          37258          39717  \n",
       "unique                  14          27209              5  \n",
       "top     debt_consolidation        us army           rent  \n",
       "freq                 18641            212          18899  "
      ]
     },
     "execution_count": 15,
     "metadata": {},
     "output_type": "execute_result"
    }
   ],
   "source": [
    "df_loans.describe(include='object')"
   ]
  },
  {
   "cell_type": "markdown",
   "metadata": {},
   "source": [
    "Nuestra variable dependiente en las hipótesis que hemos tomado es averiguar si la probabilidad de impago de un crédito (loan_status) se explican o tiene algún grado de dependencia de ciertas variables, como el tipo de interés (interest_rate), el ratio dti (dti), el uso de las tarjetas revolving_line_utilization_rate), el tiempo que lleva el prestatario empleado (employment_length), el tipo de vivienda (home_ownership) o los ingresos anuales (annual_income)"
   ]
  },
  {
   "cell_type": "markdown",
   "metadata": {},
   "source": [
    "Antes de seguir con el análisis, comprobamos si existen filas duplicadas en el dataframe (no incluimos la columna de índice ya que, por error, un mismo préstamo podría haberse incluido con diferentes índices)"
   ]
  },
  {
   "cell_type": "code",
   "execution_count": 16,
   "metadata": {},
   "outputs": [
    {
     "data": {
      "text/plain": [
       "0"
      ]
     },
     "execution_count": 16,
     "metadata": {},
     "output_type": "execute_result"
    }
   ],
   "source": [
    "df_loans.duplicated(subset=df_loans.columns.difference(['id'])).sum()\n"
   ]
  },
  {
   "cell_type": "markdown",
   "metadata": {},
   "source": [
    "Vamos a investigar la que será nuestra variable dependiente (loan_status) más de cerca, viendo los valores que puede tener y el actual estado de cada préstamo"
   ]
  },
  {
   "cell_type": "code",
   "execution_count": 17,
   "metadata": {},
   "outputs": [
    {
     "data": {
      "text/plain": [
       "loan_status\n",
       "fully paid     32950\n",
       "charged off     5627\n",
       "current         1140\n",
       "Name: count, dtype: int64"
      ]
     },
     "execution_count": 17,
     "metadata": {},
     "output_type": "execute_result"
    }
   ],
   "source": [
    "df_loans['loan_status'].value_counts()"
   ]
  },
  {
   "cell_type": "markdown",
   "metadata": {},
   "source": [
    "El dataframe tiene 3 valores en cuanto al status actual del préstamo: pagado, cancelado o en curso. En nuestro analisis nos vamos a centrar sobre los préstamos pagados y cancelados, ya que no tenemos constancia si los que están actualemente en curso van a ser al final fallidos o no. Dividimos el dataframe en dos, por un lado uno que contenga los préstamos pagados y cancelados, y otro que solo tenga los préstamos en curso. Sobre este último, podemos aplicar modelos de Machine Learning a partir de los datos obtenidos del primer dataframe para averiguar la probabilidad de que los créditos en curso sean finalmente impagados.\n"
   ]
  },
  {
   "cell_type": "code",
   "execution_count": 18,
   "metadata": {},
   "outputs": [],
   "source": [
    "df_DueLoans = df_loans[(df_loans['loan_status']=='fully paid') | (df_loans['loan_status']=='charged off')]\n",
    "df_CurrentLoans = df_loans[df_loans['loan_status']=='current']"
   ]
  },
  {
   "cell_type": "markdown",
   "metadata": {},
   "source": [
    "Nuestro análisis se centrará en el dataframe \"due_loans\""
   ]
  },
  {
   "cell_type": "markdown",
   "metadata": {},
   "source": [
    "Empezamos mostrando las columnas del Dataframe"
   ]
  },
  {
   "cell_type": "code",
   "execution_count": 19,
   "metadata": {},
   "outputs": [
    {
     "data": {
      "text/plain": [
       "(38577, 22)"
      ]
     },
     "execution_count": 19,
     "metadata": {},
     "output_type": "execute_result"
    }
   ],
   "source": [
    "df_DueLoans.shape"
   ]
  },
  {
   "cell_type": "code",
   "execution_count": 20,
   "metadata": {},
   "outputs": [
    {
     "data": {
      "text/html": [
       "<div>\n",
       "<style scoped>\n",
       "    .dataframe tbody tr th:only-of-type {\n",
       "        vertical-align: middle;\n",
       "    }\n",
       "\n",
       "    .dataframe tbody tr th {\n",
       "        vertical-align: top;\n",
       "    }\n",
       "\n",
       "    .dataframe thead th {\n",
       "        text-align: right;\n",
       "    }\n",
       "</style>\n",
       "<table border=\"1\" class=\"dataframe\">\n",
       "  <thead>\n",
       "    <tr style=\"text-align: right;\">\n",
       "      <th></th>\n",
       "      <th>id</th>\n",
       "      <th>loan_status</th>\n",
       "      <th>loan_amount</th>\n",
       "      <th>funded_amount_by_investors</th>\n",
       "      <th>loan_term</th>\n",
       "      <th>interest_rate</th>\n",
       "      <th>installment</th>\n",
       "      <th>grade</th>\n",
       "      <th>sub_grade</th>\n",
       "      <th>verification_status</th>\n",
       "      <th>issued_on</th>\n",
       "      <th>purpose</th>\n",
       "      <th>dti</th>\n",
       "      <th>inquiries_last_6_months</th>\n",
       "      <th>open_credit_lines</th>\n",
       "      <th>derogatory_public_records</th>\n",
       "      <th>revolving_line_utilization_rate</th>\n",
       "      <th>total_credit_lines</th>\n",
       "      <th>employment_length</th>\n",
       "      <th>employer_title</th>\n",
       "      <th>home_ownership</th>\n",
       "      <th>annual_income</th>\n",
       "    </tr>\n",
       "  </thead>\n",
       "  <tbody>\n",
       "    <tr>\n",
       "      <th>0</th>\n",
       "      <td>1077501</td>\n",
       "      <td>fully paid</td>\n",
       "      <td>5000</td>\n",
       "      <td>4975.0</td>\n",
       "      <td>36</td>\n",
       "      <td>10.65</td>\n",
       "      <td>162.87</td>\n",
       "      <td>b</td>\n",
       "      <td>b2</td>\n",
       "      <td>verified</td>\n",
       "      <td>2011-12-01</td>\n",
       "      <td>credit_card</td>\n",
       "      <td>27.65</td>\n",
       "      <td>1</td>\n",
       "      <td>3</td>\n",
       "      <td>0</td>\n",
       "      <td>83.7</td>\n",
       "      <td>9</td>\n",
       "      <td>10.0</td>\n",
       "      <td>NaN</td>\n",
       "      <td>rent</td>\n",
       "      <td>24000.0</td>\n",
       "    </tr>\n",
       "    <tr>\n",
       "      <th>1</th>\n",
       "      <td>1077430</td>\n",
       "      <td>charged off</td>\n",
       "      <td>2500</td>\n",
       "      <td>2500.0</td>\n",
       "      <td>60</td>\n",
       "      <td>15.27</td>\n",
       "      <td>59.83</td>\n",
       "      <td>c</td>\n",
       "      <td>c4</td>\n",
       "      <td>source verified</td>\n",
       "      <td>2011-12-01</td>\n",
       "      <td>car</td>\n",
       "      <td>1.00</td>\n",
       "      <td>5</td>\n",
       "      <td>3</td>\n",
       "      <td>0</td>\n",
       "      <td>9.4</td>\n",
       "      <td>4</td>\n",
       "      <td>1.0</td>\n",
       "      <td>ryder</td>\n",
       "      <td>rent</td>\n",
       "      <td>30000.0</td>\n",
       "    </tr>\n",
       "    <tr>\n",
       "      <th>2</th>\n",
       "      <td>1077175</td>\n",
       "      <td>fully paid</td>\n",
       "      <td>2400</td>\n",
       "      <td>2400.0</td>\n",
       "      <td>36</td>\n",
       "      <td>15.96</td>\n",
       "      <td>84.33</td>\n",
       "      <td>c</td>\n",
       "      <td>c5</td>\n",
       "      <td>not verified</td>\n",
       "      <td>2011-12-01</td>\n",
       "      <td>small_business</td>\n",
       "      <td>8.72</td>\n",
       "      <td>2</td>\n",
       "      <td>2</td>\n",
       "      <td>0</td>\n",
       "      <td>98.5</td>\n",
       "      <td>10</td>\n",
       "      <td>10.0</td>\n",
       "      <td>NaN</td>\n",
       "      <td>rent</td>\n",
       "      <td>12252.0</td>\n",
       "    </tr>\n",
       "    <tr>\n",
       "      <th>3</th>\n",
       "      <td>1076863</td>\n",
       "      <td>fully paid</td>\n",
       "      <td>10000</td>\n",
       "      <td>10000.0</td>\n",
       "      <td>36</td>\n",
       "      <td>13.49</td>\n",
       "      <td>339.31</td>\n",
       "      <td>c</td>\n",
       "      <td>c1</td>\n",
       "      <td>source verified</td>\n",
       "      <td>2011-12-01</td>\n",
       "      <td>other</td>\n",
       "      <td>20.00</td>\n",
       "      <td>1</td>\n",
       "      <td>10</td>\n",
       "      <td>0</td>\n",
       "      <td>21.0</td>\n",
       "      <td>37</td>\n",
       "      <td>10.0</td>\n",
       "      <td>air resources board</td>\n",
       "      <td>rent</td>\n",
       "      <td>49200.0</td>\n",
       "    </tr>\n",
       "    <tr>\n",
       "      <th>5</th>\n",
       "      <td>1075269</td>\n",
       "      <td>fully paid</td>\n",
       "      <td>5000</td>\n",
       "      <td>5000.0</td>\n",
       "      <td>36</td>\n",
       "      <td>7.90</td>\n",
       "      <td>156.46</td>\n",
       "      <td>a</td>\n",
       "      <td>a4</td>\n",
       "      <td>source verified</td>\n",
       "      <td>2011-12-01</td>\n",
       "      <td>wedding</td>\n",
       "      <td>11.20</td>\n",
       "      <td>3</td>\n",
       "      <td>9</td>\n",
       "      <td>0</td>\n",
       "      <td>28.3</td>\n",
       "      <td>12</td>\n",
       "      <td>3.0</td>\n",
       "      <td>veolia transportaton</td>\n",
       "      <td>rent</td>\n",
       "      <td>36000.0</td>\n",
       "    </tr>\n",
       "  </tbody>\n",
       "</table>\n",
       "</div>"
      ],
      "text/plain": [
       "        id  loan_status  loan_amount  funded_amount_by_investors  loan_term  \\\n",
       "0  1077501   fully paid         5000                      4975.0         36   \n",
       "1  1077430  charged off         2500                      2500.0         60   \n",
       "2  1077175   fully paid         2400                      2400.0         36   \n",
       "3  1076863   fully paid        10000                     10000.0         36   \n",
       "5  1075269   fully paid         5000                      5000.0         36   \n",
       "\n",
       "   interest_rate  installment grade sub_grade verification_status   issued_on  \\\n",
       "0          10.65       162.87     b        b2            verified  2011-12-01   \n",
       "1          15.27        59.83     c        c4     source verified  2011-12-01   \n",
       "2          15.96        84.33     c        c5        not verified  2011-12-01   \n",
       "3          13.49       339.31     c        c1     source verified  2011-12-01   \n",
       "5           7.90       156.46     a        a4     source verified  2011-12-01   \n",
       "\n",
       "          purpose    dti  inquiries_last_6_months  open_credit_lines  \\\n",
       "0     credit_card  27.65                        1                  3   \n",
       "1             car   1.00                        5                  3   \n",
       "2  small_business   8.72                        2                  2   \n",
       "3           other  20.00                        1                 10   \n",
       "5         wedding  11.20                        3                  9   \n",
       "\n",
       "   derogatory_public_records  revolving_line_utilization_rate  \\\n",
       "0                          0                             83.7   \n",
       "1                          0                              9.4   \n",
       "2                          0                             98.5   \n",
       "3                          0                             21.0   \n",
       "5                          0                             28.3   \n",
       "\n",
       "   total_credit_lines  employment_length        employer_title home_ownership  \\\n",
       "0                   9               10.0                   NaN           rent   \n",
       "1                   4                1.0                 ryder           rent   \n",
       "2                  10               10.0                   NaN           rent   \n",
       "3                  37               10.0   air resources board           rent   \n",
       "5                  12                3.0  veolia transportaton           rent   \n",
       "\n",
       "   annual_income  \n",
       "0        24000.0  \n",
       "1        30000.0  \n",
       "2        12252.0  \n",
       "3        49200.0  \n",
       "5        36000.0  "
      ]
     },
     "execution_count": 20,
     "metadata": {},
     "output_type": "execute_result"
    }
   ],
   "source": [
    "pd.options.display.max_columns = 22\n",
    "\n",
    "df_DueLoans.head()"
   ]
  },
  {
   "cell_type": "markdown",
   "metadata": {},
   "source": [
    "Vemos ahora el tipo de información de cada una de las columnas"
   ]
  },
  {
   "cell_type": "code",
   "execution_count": 21,
   "metadata": {},
   "outputs": [
    {
     "name": "stdout",
     "output_type": "stream",
     "text": [
      "<class 'pandas.core.frame.DataFrame'>\n",
      "Index: 38577 entries, 0 to 39716\n",
      "Data columns (total 22 columns):\n",
      " #   Column                           Non-Null Count  Dtype  \n",
      "---  ------                           --------------  -----  \n",
      " 0   id                               38577 non-null  int64  \n",
      " 1   loan_status                      38577 non-null  object \n",
      " 2   loan_amount                      38577 non-null  int64  \n",
      " 3   funded_amount_by_investors       38577 non-null  float64\n",
      " 4   loan_term                        38577 non-null  int64  \n",
      " 5   interest_rate                    38577 non-null  float64\n",
      " 6   installment                      38577 non-null  float64\n",
      " 7   grade                            38577 non-null  object \n",
      " 8   sub_grade                        38577 non-null  object \n",
      " 9   verification_status              38577 non-null  object \n",
      " 10  issued_on                        38577 non-null  object \n",
      " 11  purpose                          38577 non-null  object \n",
      " 12  dti                              38577 non-null  float64\n",
      " 13  inquiries_last_6_months          38577 non-null  int64  \n",
      " 14  open_credit_lines                38577 non-null  int64  \n",
      " 15  derogatory_public_records        38577 non-null  int64  \n",
      " 16  revolving_line_utilization_rate  38527 non-null  float64\n",
      " 17  total_credit_lines               38577 non-null  int64  \n",
      " 18  employment_length                37544 non-null  float64\n",
      " 19  employer_title                   36191 non-null  object \n",
      " 20  home_ownership                   38577 non-null  object \n",
      " 21  annual_income                    38577 non-null  float64\n",
      "dtypes: float64(7), int64(7), object(8)\n",
      "memory usage: 6.8+ MB\n"
     ]
    }
   ],
   "source": [
    "df_DueLoans.info()"
   ]
  },
  {
   "cell_type": "markdown",
   "metadata": {},
   "source": [
    "La única columna que puede tiene datos nulos es la de \"employer_title\" y \"employment_length\". Esta columna da información sobre el sector en el que trabaja el prestatario. Si bien, no vamos a usarla en nuestro análisis, no podemos rellenar esos valores con datos concretos, al ser muy difícil averiguar cuál es el sector en el que trabaja el prestatario. Veamos esta columna con más detalle."
   ]
  },
  {
   "cell_type": "code",
   "execution_count": 22,
   "metadata": {},
   "outputs": [
    {
     "data": {
      "text/plain": [
       "26474"
      ]
     },
     "execution_count": 22,
     "metadata": {},
     "output_type": "execute_result"
    }
   ],
   "source": [
    "df_DueLoans['employer_title'].nunique()"
   ]
  },
  {
   "cell_type": "markdown",
   "metadata": {},
   "source": [
    "Comprobemos la cardinalidad de las columnas 'object' de nuestro dataframe"
   ]
  },
  {
   "cell_type": "code",
   "execution_count": 23,
   "metadata": {},
   "outputs": [
    {
     "name": "stdout",
     "output_type": "stream",
     "text": [
      "La cardinalidad de la variable loan_status es 0.01%\n",
      "La cardinalidad de la variable grade es 0.02%\n",
      "La cardinalidad de la variable sub_grade es 0.09%\n",
      "La cardinalidad de la variable verification_status es 0.01%\n",
      "La cardinalidad de la variable issued_on es 0.14%\n",
      "La cardinalidad de la variable purpose es 0.04%\n",
      "La cardinalidad de la variable employer_title es 68.63%\n",
      "La cardinalidad de la variable home_ownership es 0.01%\n"
     ]
    }
   ],
   "source": [
    "for i in df_DueLoans.select_dtypes(include='object'):\n",
    "    print(f\"La cardinalidad de la variable {i} es {(df_DueLoans[i].nunique()/df_DueLoans.shape[0])*100:.2f}%\")"
   ]
  },
  {
   "cell_type": "markdown",
   "metadata": {},
   "source": [
    "Vemos que hay muchísimos valores en esta columna, por lo que no es práctico hacer un estudio por ella. Tampoco necesitamos esta información para nuestro análisis."
   ]
  },
  {
   "cell_type": "markdown",
   "metadata": {},
   "source": [
    "Veamos ahora la otra columna con elementos nulos, que es la de \"employment_length\" y que sí es una de las variables que íbamos a estudiar en nuestra análisis."
   ]
  },
  {
   "cell_type": "code",
   "execution_count": 24,
   "metadata": {},
   "outputs": [
    {
     "data": {
      "text/plain": [
       "1033"
      ]
     },
     "execution_count": 24,
     "metadata": {},
     "output_type": "execute_result"
    }
   ],
   "source": [
    "df_DueLoans['employment_length'].isna().sum()"
   ]
  },
  {
   "cell_type": "markdown",
   "metadata": {},
   "source": [
    "Hay hasta 1033 filas en las que no aparece el dato del tiempo que lleva el prestatario empleado. Veamos más detalles de esta columna"
   ]
  },
  {
   "cell_type": "code",
   "execution_count": 25,
   "metadata": {},
   "outputs": [
    {
     "data": {
      "text/plain": [
       "employment_length\n",
       "10.0    8488\n",
       "1.0     7677\n",
       "2.0     4291\n",
       "3.0     4012\n",
       "4.0     3342\n",
       "5.0     3194\n",
       "6.0     2168\n",
       "7.0     1711\n",
       "8.0     1435\n",
       "9.0     1226\n",
       "Name: count, dtype: int64"
      ]
     },
     "execution_count": 25,
     "metadata": {},
     "output_type": "execute_result"
    }
   ],
   "source": [
    "df_DueLoans['employment_length'].value_counts()"
   ]
  },
  {
   "cell_type": "code",
   "execution_count": 26,
   "metadata": {},
   "outputs": [
    {
     "data": {
      "text/plain": [
       "array([10.,  1.,  3.,  8.,  9.,  4.,  5.,  6.,  2.,  7., nan])"
      ]
     },
     "execution_count": 26,
     "metadata": {},
     "output_type": "execute_result"
    }
   ],
   "source": [
    "df_DueLoans['employment_length'].unique()"
   ]
  },
  {
   "cell_type": "code",
   "execution_count": 27,
   "metadata": {},
   "outputs": [
    {
     "data": {
      "image/png": "[encoded data removed]",
      "text/plain": [
       "<Figure size 640x480 with 1 Axes>"
      ]
     },
     "metadata": {},
     "output_type": "display_data"
    }
   ],
   "source": [
    "df_DueLoans['employment_length'].value_counts().plot(kind='bar');"
   ]
  },
  {
   "cell_type": "markdown",
   "metadata": {},
   "source": [
    "La cantidad de préstamos solicitados es mayor cuanto menos tiempo se lleve trabajando, con la excepción de los que llevan más de 10 años. sin embargo, debemos tener en cuenta que este valor incluye todos los trabajadores con 10 o más años de actividad.\n",
    "\n",
    "Vamos a calcular algunas estadísticas más de esta columna."
   ]
  },
  {
   "cell_type": "code",
   "execution_count": 28,
   "metadata": {},
   "outputs": [
    {
     "data": {
      "text/plain": [
       "count    37544.000000\n",
       "mean         5.061048\n",
       "std          3.401750\n",
       "min          1.000000\n",
       "25%          2.000000\n",
       "50%          4.000000\n",
       "75%          9.000000\n",
       "max         10.000000\n",
       "Name: employment_length, dtype: float64"
      ]
     },
     "execution_count": 28,
     "metadata": {},
     "output_type": "execute_result"
    }
   ],
   "source": [
    "df_DueLoans['employment_length'].describe()"
   ]
  },
  {
   "cell_type": "markdown",
   "metadata": {},
   "source": [
    "Parece que la media está en 5 años, mientras que la mediana está en 4 años. No parece que ninguno de los dos valores sean representativos de los valores más comunes del dataframe. Quizás la mejor opción sería repartir las 1033 filas NaN con el porcentaje respectivo de cada uno de los valores del \"employment_length\""
   ]
  },
  {
   "cell_type": "code",
   "execution_count": 29,
   "metadata": {},
   "outputs": [
    {
     "data": {
      "text/plain": [
       "employment_length\n",
       "10.0                 22.608140\n",
       "1.0                  20.448008\n",
       "2.0                  11.429256\n",
       "3.0                  10.686128\n",
       "4.0                   8.901556\n",
       "5.0                   8.507351\n",
       "6.0                   5.774558\n",
       "7.0                   4.557319\n",
       "8.0                   3.822182\n",
       "9.0                   3.265502\n",
       "Name: proportion, dtype: float64"
      ]
     },
     "execution_count": 29,
     "metadata": {},
     "output_type": "execute_result"
    }
   ],
   "source": [
    "df_DueLoans[['employment_length']].value_counts(normalize=True, dropna=True) * 100"
   ]
  },
  {
   "cell_type": "markdown",
   "metadata": {},
   "source": [
    "Dado que lo que queremos estudiar es la incidencia del tiempo en que el prestatario está empleado en el pago o cancelación del préstamo, las opciones que tenemos a seguir con estas filas de Nan son dos:\n",
    "\n",
    "1. Hacer el estudio sin tener en cuenta las Nan. Estamos hablando de 1033 filas de un total de 38.577, es decir, del 2,67% del total\n",
    "2. Otra opción sería ver la incidencia de las filas Nan en cada grupo a estudiar (pagado o cancelado) y ver el reparto porcentual del valor de los \"employment_length\" en cada grupo, para a continuación imputar aleatoriamente un valor a las filas Nan en función de estos porcentajes. \n",
    "\n",
    "Vamos a proceder si hay diferencias significativas entre ambos grupos, aunque de momento, de menra visual."
   ]
  },
  {
   "cell_type": "code",
   "execution_count": 30,
   "metadata": {},
   "outputs": [
    {
     "data": {
      "text/plain": [
       "employment_length\n",
       "10.0    22.264738\n",
       "1.0     20.475968\n",
       "2.0     11.585005\n",
       "3.0     10.754394\n",
       "4.0      8.959403\n",
       "5.0      8.511433\n",
       "6.0      5.789392\n",
       "7.0      4.504589\n",
       "8.0      3.832633\n",
       "9.0      3.322445\n",
       "Name: proportion, dtype: float64"
      ]
     },
     "execution_count": 30,
     "metadata": {},
     "output_type": "execute_result"
    }
   ],
   "source": [
    "df_DueLoans[df_DueLoans['loan_status']=='fully paid']['employment_length'].value_counts(normalize=True, dropna=True) * 100"
   ]
  },
  {
   "cell_type": "code",
   "execution_count": 31,
   "metadata": {},
   "outputs": [
    {
     "data": {
      "text/plain": [
       "employment_length\n",
       "10.0    24.652713\n",
       "1.0     20.281534\n",
       "2.0     10.501945\n",
       "3.0     10.279681\n",
       "4.0      8.557140\n",
       "5.0      8.483052\n",
       "6.0      5.686238\n",
       "7.0      4.871272\n",
       "8.0      3.759956\n",
       "9.0      2.926468\n",
       "Name: proportion, dtype: float64"
      ]
     },
     "execution_count": 31,
     "metadata": {},
     "output_type": "execute_result"
    }
   ],
   "source": [
    "df_DueLoans[df_DueLoans['loan_status']=='charged off']['employment_length'].value_counts(normalize=True, dropna=True) * 100"
   ]
  },
  {
   "cell_type": "code",
   "execution_count": 32,
   "metadata": {},
   "outputs": [
    {
     "data": {
      "image/png": "[encoded data removed]",
      "text/plain": [
       "<Figure size 800x600 with 1 Axes>"
      ]
     },
     "metadata": {},
     "output_type": "display_data"
    }
   ],
   "source": [
    "plt.figure(figsize=(8, 6))\n",
    "ax = sns.barplot(data=df_DueLoans, x='loan_status', y='employment_length', hue='loan_status', legend='auto', estimator='mean');\n",
    "plt.title('Media de tiempo trabajando por tipo de préstamo')\n",
    "for p in ax.patches:\n",
    "    ax.annotate(f\"{p.get_height():.2f}\", (p.get_x() + p.get_width() / 2., p.get_height()),\n",
    "    ha='center', va='center', xytext=(0, 10), textcoords='offset points')\n"
   ]
  },
  {
   "cell_type": "code",
   "execution_count": 33,
   "metadata": {},
   "outputs": [
    {
     "data": {
      "image/png": "[encoded data removed]",
      "text/plain": [
       "<Figure size 800x600 with 1 Axes>"
      ]
     },
     "metadata": {},
     "output_type": "display_data"
    }
   ],
   "source": [
    "plt.figure(figsize=(8, 6))\n",
    "ax = sns.barplot(data=df_DueLoans, x='loan_status', y='employment_length', hue='loan_status', legend='auto', estimator='median');\n",
    "plt.title('Mediana de tiempo trabajando por tipo de préstamo')\n",
    "for p in ax.patches:\n",
    "    ax.annotate(f\"{p.get_height():.2f}\", (p.get_x() + p.get_width() / 2., p.get_height()),\n",
    "    ha='center', va='center', xytext=(0, 10), textcoords='offset points')"
   ]
  },
  {
   "cell_type": "markdown",
   "metadata": {},
   "source": [
    "Parece que hay diferencias, que podrían ser significativas, entre un grupo y otro (préstamo pagado y cancelado). Asignar los valores Nan de manera aleatoria sin atender a ningún criterio podría tener consecuencias en nuestro análisis. Una solución podrías ser asignar los valores Nan en las proporciones que se reflejan más arriba. Sin embargo, cuaqluier decisión no dejaría de ser subjetiva y rellenar los valores Nan respecto a porcentajes tendría el mismo efecto en nuestro estudio que si los obviamos. \n",
    "\n",
    "Estudiamos en más detalle esta columna. Creamos un dataframe que incluya solo las filas con Nan"
   ]
  },
  {
   "cell_type": "code",
   "execution_count": 34,
   "metadata": {},
   "outputs": [
    {
     "data": {
      "text/html": [
       "<div>\n",
       "<style scoped>\n",
       "    .dataframe tbody tr th:only-of-type {\n",
       "        vertical-align: middle;\n",
       "    }\n",
       "\n",
       "    .dataframe tbody tr th {\n",
       "        vertical-align: top;\n",
       "    }\n",
       "\n",
       "    .dataframe thead th {\n",
       "        text-align: right;\n",
       "    }\n",
       "</style>\n",
       "<table border=\"1\" class=\"dataframe\">\n",
       "  <thead>\n",
       "    <tr style=\"text-align: right;\">\n",
       "      <th></th>\n",
       "      <th>id</th>\n",
       "      <th>loan_status</th>\n",
       "      <th>loan_amount</th>\n",
       "      <th>funded_amount_by_investors</th>\n",
       "      <th>loan_term</th>\n",
       "      <th>interest_rate</th>\n",
       "      <th>installment</th>\n",
       "      <th>grade</th>\n",
       "      <th>sub_grade</th>\n",
       "      <th>verification_status</th>\n",
       "      <th>issued_on</th>\n",
       "      <th>purpose</th>\n",
       "      <th>dti</th>\n",
       "      <th>inquiries_last_6_months</th>\n",
       "      <th>open_credit_lines</th>\n",
       "      <th>derogatory_public_records</th>\n",
       "      <th>revolving_line_utilization_rate</th>\n",
       "      <th>total_credit_lines</th>\n",
       "      <th>employment_length</th>\n",
       "      <th>employer_title</th>\n",
       "      <th>home_ownership</th>\n",
       "      <th>annual_income</th>\n",
       "    </tr>\n",
       "  </thead>\n",
       "  <tbody>\n",
       "    <tr>\n",
       "      <th>168</th>\n",
       "      <td>1067644</td>\n",
       "      <td>charged off</td>\n",
       "      <td>2500</td>\n",
       "      <td>2500.00000</td>\n",
       "      <td>36</td>\n",
       "      <td>7.51</td>\n",
       "      <td>77.78</td>\n",
       "      <td>a</td>\n",
       "      <td>a3</td>\n",
       "      <td>source verified</td>\n",
       "      <td>2011-12-01</td>\n",
       "      <td>debt_consolidation</td>\n",
       "      <td>16.30</td>\n",
       "      <td>2</td>\n",
       "      <td>13</td>\n",
       "      <td>0</td>\n",
       "      <td>42.2</td>\n",
       "      <td>20</td>\n",
       "      <td>NaN</td>\n",
       "      <td>NaN</td>\n",
       "      <td>own</td>\n",
       "      <td>12000.0</td>\n",
       "    </tr>\n",
       "    <tr>\n",
       "      <th>323</th>\n",
       "      <td>1058717</td>\n",
       "      <td>fully paid</td>\n",
       "      <td>18000</td>\n",
       "      <td>18000.00000</td>\n",
       "      <td>60</td>\n",
       "      <td>17.58</td>\n",
       "      <td>452.98</td>\n",
       "      <td>d</td>\n",
       "      <td>d4</td>\n",
       "      <td>verified</td>\n",
       "      <td>2011-12-01</td>\n",
       "      <td>debt_consolidation</td>\n",
       "      <td>21.96</td>\n",
       "      <td>1</td>\n",
       "      <td>11</td>\n",
       "      <td>0</td>\n",
       "      <td>83.7</td>\n",
       "      <td>28</td>\n",
       "      <td>NaN</td>\n",
       "      <td>NaN</td>\n",
       "      <td>mortgage</td>\n",
       "      <td>60000.0</td>\n",
       "    </tr>\n",
       "    <tr>\n",
       "      <th>394</th>\n",
       "      <td>1064582</td>\n",
       "      <td>fully paid</td>\n",
       "      <td>4000</td>\n",
       "      <td>4000.00000</td>\n",
       "      <td>36</td>\n",
       "      <td>11.71</td>\n",
       "      <td>132.31</td>\n",
       "      <td>b</td>\n",
       "      <td>b3</td>\n",
       "      <td>source verified</td>\n",
       "      <td>2011-12-01</td>\n",
       "      <td>home_improvement</td>\n",
       "      <td>7.50</td>\n",
       "      <td>0</td>\n",
       "      <td>4</td>\n",
       "      <td>0</td>\n",
       "      <td>54.9</td>\n",
       "      <td>6</td>\n",
       "      <td>NaN</td>\n",
       "      <td>NaN</td>\n",
       "      <td>rent</td>\n",
       "      <td>24000.0</td>\n",
       "    </tr>\n",
       "    <tr>\n",
       "      <th>422</th>\n",
       "      <td>1064366</td>\n",
       "      <td>charged off</td>\n",
       "      <td>1000</td>\n",
       "      <td>1000.00000</td>\n",
       "      <td>36</td>\n",
       "      <td>14.65</td>\n",
       "      <td>34.50</td>\n",
       "      <td>c</td>\n",
       "      <td>c3</td>\n",
       "      <td>not verified</td>\n",
       "      <td>2011-12-01</td>\n",
       "      <td>major_purchase</td>\n",
       "      <td>6.00</td>\n",
       "      <td>2</td>\n",
       "      <td>3</td>\n",
       "      <td>1</td>\n",
       "      <td>83.7</td>\n",
       "      <td>8</td>\n",
       "      <td>NaN</td>\n",
       "      <td>NaN</td>\n",
       "      <td>rent</td>\n",
       "      <td>18408.0</td>\n",
       "    </tr>\n",
       "    <tr>\n",
       "      <th>439</th>\n",
       "      <td>1063912</td>\n",
       "      <td>fully paid</td>\n",
       "      <td>8250</td>\n",
       "      <td>8250.00000</td>\n",
       "      <td>36</td>\n",
       "      <td>7.51</td>\n",
       "      <td>256.67</td>\n",
       "      <td>a</td>\n",
       "      <td>a3</td>\n",
       "      <td>verified</td>\n",
       "      <td>2011-12-01</td>\n",
       "      <td>debt_consolidation</td>\n",
       "      <td>17.87</td>\n",
       "      <td>4</td>\n",
       "      <td>17</td>\n",
       "      <td>0</td>\n",
       "      <td>10.4</td>\n",
       "      <td>37</td>\n",
       "      <td>NaN</td>\n",
       "      <td>NaN</td>\n",
       "      <td>mortgage</td>\n",
       "      <td>31500.0</td>\n",
       "    </tr>\n",
       "    <tr>\n",
       "      <th>...</th>\n",
       "      <td>...</td>\n",
       "      <td>...</td>\n",
       "      <td>...</td>\n",
       "      <td>...</td>\n",
       "      <td>...</td>\n",
       "      <td>...</td>\n",
       "      <td>...</td>\n",
       "      <td>...</td>\n",
       "      <td>...</td>\n",
       "      <td>...</td>\n",
       "      <td>...</td>\n",
       "      <td>...</td>\n",
       "      <td>...</td>\n",
       "      <td>...</td>\n",
       "      <td>...</td>\n",
       "      <td>...</td>\n",
       "      <td>...</td>\n",
       "      <td>...</td>\n",
       "      <td>...</td>\n",
       "      <td>...</td>\n",
       "      <td>...</td>\n",
       "      <td>...</td>\n",
       "    </tr>\n",
       "    <tr>\n",
       "      <th>32591</th>\n",
       "      <td>480410</td>\n",
       "      <td>fully paid</td>\n",
       "      <td>10000</td>\n",
       "      <td>9975.00000</td>\n",
       "      <td>36</td>\n",
       "      <td>14.22</td>\n",
       "      <td>342.85</td>\n",
       "      <td>c</td>\n",
       "      <td>c5</td>\n",
       "      <td>not verified</td>\n",
       "      <td>2010-01-01</td>\n",
       "      <td>small_business</td>\n",
       "      <td>4.51</td>\n",
       "      <td>0</td>\n",
       "      <td>9</td>\n",
       "      <td>0</td>\n",
       "      <td>66.4</td>\n",
       "      <td>17</td>\n",
       "      <td>NaN</td>\n",
       "      <td>NaN</td>\n",
       "      <td>rent</td>\n",
       "      <td>45000.0</td>\n",
       "    </tr>\n",
       "    <tr>\n",
       "      <th>32608</th>\n",
       "      <td>480216</td>\n",
       "      <td>fully paid</td>\n",
       "      <td>3700</td>\n",
       "      <td>3700.00000</td>\n",
       "      <td>36</td>\n",
       "      <td>14.22</td>\n",
       "      <td>126.86</td>\n",
       "      <td>c</td>\n",
       "      <td>c5</td>\n",
       "      <td>not verified</td>\n",
       "      <td>2010-01-01</td>\n",
       "      <td>other</td>\n",
       "      <td>3.36</td>\n",
       "      <td>0</td>\n",
       "      <td>2</td>\n",
       "      <td>0</td>\n",
       "      <td>45.9</td>\n",
       "      <td>5</td>\n",
       "      <td>NaN</td>\n",
       "      <td>NaN</td>\n",
       "      <td>rent</td>\n",
       "      <td>17496.8</td>\n",
       "    </tr>\n",
       "    <tr>\n",
       "      <th>32621</th>\n",
       "      <td>479954</td>\n",
       "      <td>charged off</td>\n",
       "      <td>10000</td>\n",
       "      <td>9731.17513</td>\n",
       "      <td>36</td>\n",
       "      <td>14.22</td>\n",
       "      <td>342.85</td>\n",
       "      <td>c</td>\n",
       "      <td>c5</td>\n",
       "      <td>not verified</td>\n",
       "      <td>2010-01-01</td>\n",
       "      <td>other</td>\n",
       "      <td>3.83</td>\n",
       "      <td>3</td>\n",
       "      <td>3</td>\n",
       "      <td>0</td>\n",
       "      <td>34.4</td>\n",
       "      <td>19</td>\n",
       "      <td>NaN</td>\n",
       "      <td>NaN</td>\n",
       "      <td>mortgage</td>\n",
       "      <td>36000.0</td>\n",
       "    </tr>\n",
       "    <tr>\n",
       "      <th>32631</th>\n",
       "      <td>479836</td>\n",
       "      <td>fully paid</td>\n",
       "      <td>6000</td>\n",
       "      <td>6000.00000</td>\n",
       "      <td>36</td>\n",
       "      <td>12.73</td>\n",
       "      <td>201.40</td>\n",
       "      <td>c</td>\n",
       "      <td>c1</td>\n",
       "      <td>not verified</td>\n",
       "      <td>2010-01-01</td>\n",
       "      <td>moving</td>\n",
       "      <td>12.80</td>\n",
       "      <td>0</td>\n",
       "      <td>7</td>\n",
       "      <td>1</td>\n",
       "      <td>63.3</td>\n",
       "      <td>12</td>\n",
       "      <td>NaN</td>\n",
       "      <td>tong parks</td>\n",
       "      <td>mortgage</td>\n",
       "      <td>60000.0</td>\n",
       "    </tr>\n",
       "    <tr>\n",
       "      <th>32665</th>\n",
       "      <td>479468</td>\n",
       "      <td>fully paid</td>\n",
       "      <td>25000</td>\n",
       "      <td>23912.90328</td>\n",
       "      <td>36</td>\n",
       "      <td>10.25</td>\n",
       "      <td>809.62</td>\n",
       "      <td>b</td>\n",
       "      <td>b2</td>\n",
       "      <td>not verified</td>\n",
       "      <td>2010-02-01</td>\n",
       "      <td>small_business</td>\n",
       "      <td>0.13</td>\n",
       "      <td>1</td>\n",
       "      <td>11</td>\n",
       "      <td>0</td>\n",
       "      <td>8.4</td>\n",
       "      <td>19</td>\n",
       "      <td>NaN</td>\n",
       "      <td>NaN</td>\n",
       "      <td>mortgage</td>\n",
       "      <td>134000.0</td>\n",
       "    </tr>\n",
       "  </tbody>\n",
       "</table>\n",
       "<p>1033 rows × 22 columns</p>\n",
       "</div>"
      ],
      "text/plain": [
       "            id  loan_status  loan_amount  funded_amount_by_investors  \\\n",
       "168    1067644  charged off         2500                  2500.00000   \n",
       "323    1058717   fully paid        18000                 18000.00000   \n",
       "394    1064582   fully paid         4000                  4000.00000   \n",
       "422    1064366  charged off         1000                  1000.00000   \n",
       "439    1063912   fully paid         8250                  8250.00000   \n",
       "...        ...          ...          ...                         ...   \n",
       "32591   480410   fully paid        10000                  9975.00000   \n",
       "32608   480216   fully paid         3700                  3700.00000   \n",
       "32621   479954  charged off        10000                  9731.17513   \n",
       "32631   479836   fully paid         6000                  6000.00000   \n",
       "32665   479468   fully paid        25000                 23912.90328   \n",
       "\n",
       "       loan_term  interest_rate  installment grade sub_grade  \\\n",
       "168           36           7.51        77.78     a        a3   \n",
       "323           60          17.58       452.98     d        d4   \n",
       "394           36          11.71       132.31     b        b3   \n",
       "422           36          14.65        34.50     c        c3   \n",
       "439           36           7.51       256.67     a        a3   \n",
       "...          ...            ...          ...   ...       ...   \n",
       "32591         36          14.22       342.85     c        c5   \n",
       "32608         36          14.22       126.86     c        c5   \n",
       "32621         36          14.22       342.85     c        c5   \n",
       "32631         36          12.73       201.40     c        c1   \n",
       "32665         36          10.25       809.62     b        b2   \n",
       "\n",
       "      verification_status   issued_on             purpose    dti  \\\n",
       "168       source verified  2011-12-01  debt_consolidation  16.30   \n",
       "323              verified  2011-12-01  debt_consolidation  21.96   \n",
       "394       source verified  2011-12-01    home_improvement   7.50   \n",
       "422          not verified  2011-12-01      major_purchase   6.00   \n",
       "439              verified  2011-12-01  debt_consolidation  17.87   \n",
       "...                   ...         ...                 ...    ...   \n",
       "32591        not verified  2010-01-01      small_business   4.51   \n",
       "32608        not verified  2010-01-01               other   3.36   \n",
       "32621        not verified  2010-01-01               other   3.83   \n",
       "32631        not verified  2010-01-01              moving  12.80   \n",
       "32665        not verified  2010-02-01      small_business   0.13   \n",
       "\n",
       "       inquiries_last_6_months  open_credit_lines  derogatory_public_records  \\\n",
       "168                          2                 13                          0   \n",
       "323                          1                 11                          0   \n",
       "394                          0                  4                          0   \n",
       "422                          2                  3                          1   \n",
       "439                          4                 17                          0   \n",
       "...                        ...                ...                        ...   \n",
       "32591                        0                  9                          0   \n",
       "32608                        0                  2                          0   \n",
       "32621                        3                  3                          0   \n",
       "32631                        0                  7                          1   \n",
       "32665                        1                 11                          0   \n",
       "\n",
       "       revolving_line_utilization_rate  total_credit_lines  employment_length  \\\n",
       "168                               42.2                  20                NaN   \n",
       "323                               83.7                  28                NaN   \n",
       "394                               54.9                   6                NaN   \n",
       "422                               83.7                   8                NaN   \n",
       "439                               10.4                  37                NaN   \n",
       "...                                ...                 ...                ...   \n",
       "32591                             66.4                  17                NaN   \n",
       "32608                             45.9                   5                NaN   \n",
       "32621                             34.4                  19                NaN   \n",
       "32631                             63.3                  12                NaN   \n",
       "32665                              8.4                  19                NaN   \n",
       "\n",
       "      employer_title home_ownership  annual_income  \n",
       "168              NaN            own        12000.0  \n",
       "323              NaN       mortgage        60000.0  \n",
       "394              NaN           rent        24000.0  \n",
       "422              NaN           rent        18408.0  \n",
       "439              NaN       mortgage        31500.0  \n",
       "...              ...            ...            ...  \n",
       "32591            NaN           rent        45000.0  \n",
       "32608            NaN           rent        17496.8  \n",
       "32621            NaN       mortgage        36000.0  \n",
       "32631     tong parks       mortgage        60000.0  \n",
       "32665            NaN       mortgage       134000.0  \n",
       "\n",
       "[1033 rows x 22 columns]"
      ]
     },
     "execution_count": 34,
     "metadata": {},
     "output_type": "execute_result"
    }
   ],
   "source": [
    "df_nan = df_DueLoans[df_DueLoans['employment_length'].isna()]\n",
    "df_nan"
   ]
  },
  {
   "cell_type": "code",
   "execution_count": 35,
   "metadata": {},
   "outputs": [
    {
     "data": {
      "image/png": "[encoded data removed]",
      "text/plain": [
       "<Figure size 1000x600 with 1 Axes>"
      ]
     },
     "metadata": {},
     "output_type": "display_data"
    }
   ],
   "source": [
    "# Conteo de valores de 'employment_length' discriminando por 'loan_status'\n",
    "pivot_df = df_DueLoans.pivot_table(index='employment_length', columns='loan_status', aggfunc='size', fill_value=0)\n",
    "\n",
    "# Crear el gráfico de barras apiladas\n",
    "pivot_df.plot(kind='bar', stacked=True, figsize=(10, 6))\n",
    "\n",
    "# Configuración del gráfico\n",
    "plt.xlabel('Duración del Empleo')\n",
    "plt.ylabel('Número de Préstamos')\n",
    "plt.title('Número de Valores por Duración del Empleo y Estado del Préstamo')\n",
    "plt.legend(title='Estado del Préstamo')\n",
    "plt.xticks(rotation=0)  # Rotar etiquetas del eje x si es necesario\n",
    "\n",
    "# Mostrar el gráfico\n",
    "plt.tight_layout()\n",
    "plt.show()"
   ]
  },
  {
   "cell_type": "code",
   "execution_count": 36,
   "metadata": {},
   "outputs": [
    {
     "data": {
      "image/png": "[encoded data removed]",
      "text/plain": [
       "<Figure size 1000x600 with 1 Axes>"
      ]
     },
     "metadata": {},
     "output_type": "display_data"
    }
   ],
   "source": [
    "# Conteo de valores de 'employment_length' discriminando por 'loan_status'\n",
    "pivot_df3 = df_DueLoans.pivot_table(index='employment_length', columns='loan_status', aggfunc='size', fill_value=0)\n",
    "\n",
    "# Calcular los porcentajes\n",
    "totals = pivot_df3.sum(axis=1)\n",
    "percentage_df = pivot_df3.div(totals, axis=0) * 100\n",
    "\n",
    "# Crear el gráfico de barras apiladas con porcentajes y etiquetas\n",
    "ax = percentage_df.plot(kind='bar', stacked=True, figsize=(10, 6))\n",
    "\n",
    "# Configuración del gráfico\n",
    "plt.xlabel('Duración del Empleo')\n",
    "plt.ylabel('Porcentaje del Total (%)')\n",
    "plt.title('Porcentaje del Total por Duración del Empleo y Estado del Préstamo')\n",
    "plt.legend(title='Estado del Préstamo')\n",
    "plt.xticks(rotation=0)  # Rotar etiquetas del eje x si es necesario\n",
    "\n",
    "# Agregar etiquetas con los porcentajes a las barras\n",
    "for i in ax.patches:\n",
    "    width, height = i.get_width(), i.get_height()\n",
    "    x, y = i.get_xy()\n",
    "    ax.text(x + width / 2, y + height / 2, f'{height:.1f}%', ha='center', va='center', color='black')\n",
    "\n",
    "# Mostrar el gráfico\n",
    "plt.tight_layout()\n",
    "plt.show()"
   ]
  },
  {
   "cell_type": "code",
   "execution_count": 37,
   "metadata": {},
   "outputs": [
    {
     "data": {
      "text/html": [
       "<div>\n",
       "<style scoped>\n",
       "    .dataframe tbody tr th:only-of-type {\n",
       "        vertical-align: middle;\n",
       "    }\n",
       "\n",
       "    .dataframe tbody tr th {\n",
       "        vertical-align: top;\n",
       "    }\n",
       "\n",
       "    .dataframe thead th {\n",
       "        text-align: right;\n",
       "    }\n",
       "</style>\n",
       "<table border=\"1\" class=\"dataframe\">\n",
       "  <thead>\n",
       "    <tr style=\"text-align: right;\">\n",
       "      <th></th>\n",
       "      <th>id</th>\n",
       "      <th>loan_status</th>\n",
       "      <th>loan_amount</th>\n",
       "      <th>funded_amount_by_investors</th>\n",
       "      <th>loan_term</th>\n",
       "      <th>interest_rate</th>\n",
       "      <th>installment</th>\n",
       "      <th>grade</th>\n",
       "      <th>sub_grade</th>\n",
       "      <th>verification_status</th>\n",
       "      <th>issued_on</th>\n",
       "      <th>purpose</th>\n",
       "      <th>dti</th>\n",
       "      <th>inquiries_last_6_months</th>\n",
       "      <th>open_credit_lines</th>\n",
       "      <th>derogatory_public_records</th>\n",
       "      <th>revolving_line_utilization_rate</th>\n",
       "      <th>total_credit_lines</th>\n",
       "      <th>employment_length</th>\n",
       "      <th>employer_title</th>\n",
       "      <th>home_ownership</th>\n",
       "      <th>annual_income</th>\n",
       "    </tr>\n",
       "  </thead>\n",
       "  <tbody>\n",
       "    <tr>\n",
       "      <th>0</th>\n",
       "      <td>1077501</td>\n",
       "      <td>fully paid</td>\n",
       "      <td>5000</td>\n",
       "      <td>4975.0</td>\n",
       "      <td>36</td>\n",
       "      <td>10.65</td>\n",
       "      <td>162.87</td>\n",
       "      <td>b</td>\n",
       "      <td>b2</td>\n",
       "      <td>verified</td>\n",
       "      <td>2011-12-01</td>\n",
       "      <td>credit_card</td>\n",
       "      <td>27.65</td>\n",
       "      <td>1</td>\n",
       "      <td>3</td>\n",
       "      <td>0</td>\n",
       "      <td>83.7</td>\n",
       "      <td>9</td>\n",
       "      <td>10.0</td>\n",
       "      <td>NaN</td>\n",
       "      <td>rent</td>\n",
       "      <td>24000.0</td>\n",
       "    </tr>\n",
       "    <tr>\n",
       "      <th>1</th>\n",
       "      <td>1077430</td>\n",
       "      <td>charged off</td>\n",
       "      <td>2500</td>\n",
       "      <td>2500.0</td>\n",
       "      <td>60</td>\n",
       "      <td>15.27</td>\n",
       "      <td>59.83</td>\n",
       "      <td>c</td>\n",
       "      <td>c4</td>\n",
       "      <td>source verified</td>\n",
       "      <td>2011-12-01</td>\n",
       "      <td>car</td>\n",
       "      <td>1.00</td>\n",
       "      <td>5</td>\n",
       "      <td>3</td>\n",
       "      <td>0</td>\n",
       "      <td>9.4</td>\n",
       "      <td>4</td>\n",
       "      <td>1.0</td>\n",
       "      <td>ryder</td>\n",
       "      <td>rent</td>\n",
       "      <td>30000.0</td>\n",
       "    </tr>\n",
       "    <tr>\n",
       "      <th>2</th>\n",
       "      <td>1077175</td>\n",
       "      <td>fully paid</td>\n",
       "      <td>2400</td>\n",
       "      <td>2400.0</td>\n",
       "      <td>36</td>\n",
       "      <td>15.96</td>\n",
       "      <td>84.33</td>\n",
       "      <td>c</td>\n",
       "      <td>c5</td>\n",
       "      <td>not verified</td>\n",
       "      <td>2011-12-01</td>\n",
       "      <td>small_business</td>\n",
       "      <td>8.72</td>\n",
       "      <td>2</td>\n",
       "      <td>2</td>\n",
       "      <td>0</td>\n",
       "      <td>98.5</td>\n",
       "      <td>10</td>\n",
       "      <td>10.0</td>\n",
       "      <td>NaN</td>\n",
       "      <td>rent</td>\n",
       "      <td>12252.0</td>\n",
       "    </tr>\n",
       "    <tr>\n",
       "      <th>3</th>\n",
       "      <td>1076863</td>\n",
       "      <td>fully paid</td>\n",
       "      <td>10000</td>\n",
       "      <td>10000.0</td>\n",
       "      <td>36</td>\n",
       "      <td>13.49</td>\n",
       "      <td>339.31</td>\n",
       "      <td>c</td>\n",
       "      <td>c1</td>\n",
       "      <td>source verified</td>\n",
       "      <td>2011-12-01</td>\n",
       "      <td>other</td>\n",
       "      <td>20.00</td>\n",
       "      <td>1</td>\n",
       "      <td>10</td>\n",
       "      <td>0</td>\n",
       "      <td>21.0</td>\n",
       "      <td>37</td>\n",
       "      <td>10.0</td>\n",
       "      <td>air resources board</td>\n",
       "      <td>rent</td>\n",
       "      <td>49200.0</td>\n",
       "    </tr>\n",
       "    <tr>\n",
       "      <th>5</th>\n",
       "      <td>1075269</td>\n",
       "      <td>fully paid</td>\n",
       "      <td>5000</td>\n",
       "      <td>5000.0</td>\n",
       "      <td>36</td>\n",
       "      <td>7.90</td>\n",
       "      <td>156.46</td>\n",
       "      <td>a</td>\n",
       "      <td>a4</td>\n",
       "      <td>source verified</td>\n",
       "      <td>2011-12-01</td>\n",
       "      <td>wedding</td>\n",
       "      <td>11.20</td>\n",
       "      <td>3</td>\n",
       "      <td>9</td>\n",
       "      <td>0</td>\n",
       "      <td>28.3</td>\n",
       "      <td>12</td>\n",
       "      <td>3.0</td>\n",
       "      <td>veolia transportaton</td>\n",
       "      <td>rent</td>\n",
       "      <td>36000.0</td>\n",
       "    </tr>\n",
       "  </tbody>\n",
       "</table>\n",
       "</div>"
      ],
      "text/plain": [
       "        id  loan_status  loan_amount  funded_amount_by_investors  loan_term  \\\n",
       "0  1077501   fully paid         5000                      4975.0         36   \n",
       "1  1077430  charged off         2500                      2500.0         60   \n",
       "2  1077175   fully paid         2400                      2400.0         36   \n",
       "3  1076863   fully paid        10000                     10000.0         36   \n",
       "5  1075269   fully paid         5000                      5000.0         36   \n",
       "\n",
       "   interest_rate  installment grade sub_grade verification_status   issued_on  \\\n",
       "0          10.65       162.87     b        b2            verified  2011-12-01   \n",
       "1          15.27        59.83     c        c4     source verified  2011-12-01   \n",
       "2          15.96        84.33     c        c5        not verified  2011-12-01   \n",
       "3          13.49       339.31     c        c1     source verified  2011-12-01   \n",
       "5           7.90       156.46     a        a4     source verified  2011-12-01   \n",
       "\n",
       "          purpose    dti  inquiries_last_6_months  open_credit_lines  \\\n",
       "0     credit_card  27.65                        1                  3   \n",
       "1             car   1.00                        5                  3   \n",
       "2  small_business   8.72                        2                  2   \n",
       "3           other  20.00                        1                 10   \n",
       "5         wedding  11.20                        3                  9   \n",
       "\n",
       "   derogatory_public_records  revolving_line_utilization_rate  \\\n",
       "0                          0                             83.7   \n",
       "1                          0                              9.4   \n",
       "2                          0                             98.5   \n",
       "3                          0                             21.0   \n",
       "5                          0                             28.3   \n",
       "\n",
       "   total_credit_lines  employment_length        employer_title home_ownership  \\\n",
       "0                   9               10.0                   NaN           rent   \n",
       "1                   4                1.0                 ryder           rent   \n",
       "2                  10               10.0                   NaN           rent   \n",
       "3                  37               10.0   air resources board           rent   \n",
       "5                  12                3.0  veolia transportaton           rent   \n",
       "\n",
       "   annual_income  \n",
       "0        24000.0  \n",
       "1        30000.0  \n",
       "2        12252.0  \n",
       "3        49200.0  \n",
       "5        36000.0  "
      ]
     },
     "execution_count": 37,
     "metadata": {},
     "output_type": "execute_result"
    }
   ],
   "source": [
    "df_DueLoans.head(5)"
   ]
  },
  {
   "cell_type": "markdown",
   "metadata": {},
   "source": [
    "De todas las columnas que tenemos, no vamos a necesitar algunas de ellas. En concreto, las siguientes columnas las vamos a eliminar de nuestro análisis:\n",
    "\n",
    "* 'funded_amount_by_investors': se trata de la cantidad ingresada en cuenta, deducidas las comisiones. No vamos a estudiar esta cifra. \n",
    "* 'grade': Se trata de una clasificación realizada por el Lending Club. No la vamos a tener en cuenta en nuestro análisis\n",
    "* 'sub_grade': Subgrado otorgado por el LC. No lo vamos a tener en cuenta.\n",
    "* 'issued_on': La fecha en que se aprobó el préstamo. Es irrelevante para saber si se va a pagar o no.\n",
    "* 'inquiries_last_6_month': números de consultas del prestatario en los últimos 6 meses. Entendemos que no afecta a si el préstamo se va a pagar o no.\n",
    "* 'derogatory_public_records': registros públicos negativos. No los vamos a tener en cuenta en nuestro análisis.\n",
    "* 'total_credit_lines': es el número de créditos totales del prestatario en la base de datos. No lo vamos a tener en cuenta en nuestro estudio.\n",
    "* 'employer_title': es irrelevante y tiene una alta cardinalidad. La eliminamos. \n"
   ]
  },
  {
   "cell_type": "code",
   "execution_count": 38,
   "metadata": {},
   "outputs": [
    {
     "data": {
      "text/html": [
       "<div>\n",
       "<style scoped>\n",
       "    .dataframe tbody tr th:only-of-type {\n",
       "        vertical-align: middle;\n",
       "    }\n",
       "\n",
       "    .dataframe tbody tr th {\n",
       "        vertical-align: top;\n",
       "    }\n",
       "\n",
       "    .dataframe thead th {\n",
       "        text-align: right;\n",
       "    }\n",
       "</style>\n",
       "<table border=\"1\" class=\"dataframe\">\n",
       "  <thead>\n",
       "    <tr style=\"text-align: right;\">\n",
       "      <th></th>\n",
       "      <th>id</th>\n",
       "      <th>loan_status</th>\n",
       "      <th>loan_amount</th>\n",
       "      <th>loan_term</th>\n",
       "      <th>interest_rate</th>\n",
       "      <th>installment</th>\n",
       "      <th>verification_status</th>\n",
       "      <th>purpose</th>\n",
       "      <th>dti</th>\n",
       "      <th>open_credit_lines</th>\n",
       "      <th>revolving_line_utilization_rate</th>\n",
       "      <th>employment_length</th>\n",
       "      <th>home_ownership</th>\n",
       "      <th>annual_income</th>\n",
       "    </tr>\n",
       "  </thead>\n",
       "  <tbody>\n",
       "    <tr>\n",
       "      <th>0</th>\n",
       "      <td>1077501</td>\n",
       "      <td>fully paid</td>\n",
       "      <td>5000</td>\n",
       "      <td>36</td>\n",
       "      <td>10.65</td>\n",
       "      <td>162.87</td>\n",
       "      <td>verified</td>\n",
       "      <td>credit_card</td>\n",
       "      <td>27.65</td>\n",
       "      <td>3</td>\n",
       "      <td>83.7</td>\n",
       "      <td>10.0</td>\n",
       "      <td>rent</td>\n",
       "      <td>24000.0</td>\n",
       "    </tr>\n",
       "    <tr>\n",
       "      <th>1</th>\n",
       "      <td>1077430</td>\n",
       "      <td>charged off</td>\n",
       "      <td>2500</td>\n",
       "      <td>60</td>\n",
       "      <td>15.27</td>\n",
       "      <td>59.83</td>\n",
       "      <td>source verified</td>\n",
       "      <td>car</td>\n",
       "      <td>1.00</td>\n",
       "      <td>3</td>\n",
       "      <td>9.4</td>\n",
       "      <td>1.0</td>\n",
       "      <td>rent</td>\n",
       "      <td>30000.0</td>\n",
       "    </tr>\n",
       "    <tr>\n",
       "      <th>2</th>\n",
       "      <td>1077175</td>\n",
       "      <td>fully paid</td>\n",
       "      <td>2400</td>\n",
       "      <td>36</td>\n",
       "      <td>15.96</td>\n",
       "      <td>84.33</td>\n",
       "      <td>not verified</td>\n",
       "      <td>small_business</td>\n",
       "      <td>8.72</td>\n",
       "      <td>2</td>\n",
       "      <td>98.5</td>\n",
       "      <td>10.0</td>\n",
       "      <td>rent</td>\n",
       "      <td>12252.0</td>\n",
       "    </tr>\n",
       "    <tr>\n",
       "      <th>3</th>\n",
       "      <td>1076863</td>\n",
       "      <td>fully paid</td>\n",
       "      <td>10000</td>\n",
       "      <td>36</td>\n",
       "      <td>13.49</td>\n",
       "      <td>339.31</td>\n",
       "      <td>source verified</td>\n",
       "      <td>other</td>\n",
       "      <td>20.00</td>\n",
       "      <td>10</td>\n",
       "      <td>21.0</td>\n",
       "      <td>10.0</td>\n",
       "      <td>rent</td>\n",
       "      <td>49200.0</td>\n",
       "    </tr>\n",
       "    <tr>\n",
       "      <th>5</th>\n",
       "      <td>1075269</td>\n",
       "      <td>fully paid</td>\n",
       "      <td>5000</td>\n",
       "      <td>36</td>\n",
       "      <td>7.90</td>\n",
       "      <td>156.46</td>\n",
       "      <td>source verified</td>\n",
       "      <td>wedding</td>\n",
       "      <td>11.20</td>\n",
       "      <td>9</td>\n",
       "      <td>28.3</td>\n",
       "      <td>3.0</td>\n",
       "      <td>rent</td>\n",
       "      <td>36000.0</td>\n",
       "    </tr>\n",
       "    <tr>\n",
       "      <th>6</th>\n",
       "      <td>1069639</td>\n",
       "      <td>fully paid</td>\n",
       "      <td>7000</td>\n",
       "      <td>60</td>\n",
       "      <td>15.96</td>\n",
       "      <td>170.08</td>\n",
       "      <td>not verified</td>\n",
       "      <td>debt_consolidation</td>\n",
       "      <td>23.51</td>\n",
       "      <td>7</td>\n",
       "      <td>85.6</td>\n",
       "      <td>8.0</td>\n",
       "      <td>rent</td>\n",
       "      <td>47004.0</td>\n",
       "    </tr>\n",
       "    <tr>\n",
       "      <th>7</th>\n",
       "      <td>1072053</td>\n",
       "      <td>fully paid</td>\n",
       "      <td>3000</td>\n",
       "      <td>36</td>\n",
       "      <td>18.64</td>\n",
       "      <td>109.43</td>\n",
       "      <td>source verified</td>\n",
       "      <td>car</td>\n",
       "      <td>5.35</td>\n",
       "      <td>4</td>\n",
       "      <td>87.5</td>\n",
       "      <td>9.0</td>\n",
       "      <td>rent</td>\n",
       "      <td>48000.0</td>\n",
       "    </tr>\n",
       "    <tr>\n",
       "      <th>8</th>\n",
       "      <td>1071795</td>\n",
       "      <td>charged off</td>\n",
       "      <td>5600</td>\n",
       "      <td>60</td>\n",
       "      <td>21.28</td>\n",
       "      <td>152.39</td>\n",
       "      <td>source verified</td>\n",
       "      <td>small_business</td>\n",
       "      <td>5.55</td>\n",
       "      <td>11</td>\n",
       "      <td>32.6</td>\n",
       "      <td>4.0</td>\n",
       "      <td>own</td>\n",
       "      <td>40000.0</td>\n",
       "    </tr>\n",
       "    <tr>\n",
       "      <th>9</th>\n",
       "      <td>1071570</td>\n",
       "      <td>charged off</td>\n",
       "      <td>5375</td>\n",
       "      <td>60</td>\n",
       "      <td>12.69</td>\n",
       "      <td>121.45</td>\n",
       "      <td>verified</td>\n",
       "      <td>other</td>\n",
       "      <td>18.08</td>\n",
       "      <td>2</td>\n",
       "      <td>36.5</td>\n",
       "      <td>1.0</td>\n",
       "      <td>rent</td>\n",
       "      <td>15000.0</td>\n",
       "    </tr>\n",
       "    <tr>\n",
       "      <th>10</th>\n",
       "      <td>1070078</td>\n",
       "      <td>fully paid</td>\n",
       "      <td>6500</td>\n",
       "      <td>60</td>\n",
       "      <td>14.65</td>\n",
       "      <td>153.45</td>\n",
       "      <td>not verified</td>\n",
       "      <td>debt_consolidation</td>\n",
       "      <td>16.12</td>\n",
       "      <td>14</td>\n",
       "      <td>20.6</td>\n",
       "      <td>5.0</td>\n",
       "      <td>own</td>\n",
       "      <td>72000.0</td>\n",
       "    </tr>\n",
       "  </tbody>\n",
       "</table>\n",
       "</div>"
      ],
      "text/plain": [
       "         id  loan_status  loan_amount  loan_term  interest_rate  installment  \\\n",
       "0   1077501   fully paid         5000         36          10.65       162.87   \n",
       "1   1077430  charged off         2500         60          15.27        59.83   \n",
       "2   1077175   fully paid         2400         36          15.96        84.33   \n",
       "3   1076863   fully paid        10000         36          13.49       339.31   \n",
       "5   1075269   fully paid         5000         36           7.90       156.46   \n",
       "6   1069639   fully paid         7000         60          15.96       170.08   \n",
       "7   1072053   fully paid         3000         36          18.64       109.43   \n",
       "8   1071795  charged off         5600         60          21.28       152.39   \n",
       "9   1071570  charged off         5375         60          12.69       121.45   \n",
       "10  1070078   fully paid         6500         60          14.65       153.45   \n",
       "\n",
       "   verification_status             purpose    dti  open_credit_lines  \\\n",
       "0             verified         credit_card  27.65                  3   \n",
       "1      source verified                 car   1.00                  3   \n",
       "2         not verified      small_business   8.72                  2   \n",
       "3      source verified               other  20.00                 10   \n",
       "5      source verified             wedding  11.20                  9   \n",
       "6         not verified  debt_consolidation  23.51                  7   \n",
       "7      source verified                 car   5.35                  4   \n",
       "8      source verified      small_business   5.55                 11   \n",
       "9             verified               other  18.08                  2   \n",
       "10        not verified  debt_consolidation  16.12                 14   \n",
       "\n",
       "    revolving_line_utilization_rate  employment_length home_ownership  \\\n",
       "0                              83.7               10.0           rent   \n",
       "1                               9.4                1.0           rent   \n",
       "2                              98.5               10.0           rent   \n",
       "3                              21.0               10.0           rent   \n",
       "5                              28.3                3.0           rent   \n",
       "6                              85.6                8.0           rent   \n",
       "7                              87.5                9.0           rent   \n",
       "8                              32.6                4.0            own   \n",
       "9                              36.5                1.0           rent   \n",
       "10                             20.6                5.0            own   \n",
       "\n",
       "    annual_income  \n",
       "0         24000.0  \n",
       "1         30000.0  \n",
       "2         12252.0  \n",
       "3         49200.0  \n",
       "5         36000.0  \n",
       "6         47004.0  \n",
       "7         48000.0  \n",
       "8         40000.0  \n",
       "9         15000.0  \n",
       "10        72000.0  "
      ]
     },
     "execution_count": 38,
     "metadata": {},
     "output_type": "execute_result"
    }
   ],
   "source": [
    "columnas_eliminar = ['funded_amount_by_investors', 'grade', 'sub_grade', 'issued_on', 'inquiries_last_6_months', 'derogatory_public_records', 'total_credit_lines', 'employer_title']\n",
    "df_clean = df_DueLoans.drop(columnas_eliminar, axis=1)\n",
    "df_clean.head(10)"
   ]
  },
  {
   "cell_type": "code",
   "execution_count": 39,
   "metadata": {},
   "outputs": [
    {
     "name": "stdout",
     "output_type": "stream",
     "text": [
      "<class 'pandas.core.frame.DataFrame'>\n",
      "Index: 38577 entries, 0 to 39716\n",
      "Data columns (total 14 columns):\n",
      " #   Column                           Non-Null Count  Dtype  \n",
      "---  ------                           --------------  -----  \n",
      " 0   id                               38577 non-null  int64  \n",
      " 1   loan_status                      38577 non-null  object \n",
      " 2   loan_amount                      38577 non-null  int64  \n",
      " 3   loan_term                        38577 non-null  int64  \n",
      " 4   interest_rate                    38577 non-null  float64\n",
      " 5   installment                      38577 non-null  float64\n",
      " 6   verification_status              38577 non-null  object \n",
      " 7   purpose                          38577 non-null  object \n",
      " 8   dti                              38577 non-null  float64\n",
      " 9   open_credit_lines                38577 non-null  int64  \n",
      " 10  revolving_line_utilization_rate  38527 non-null  float64\n",
      " 11  employment_length                37544 non-null  float64\n",
      " 12  home_ownership                   38577 non-null  object \n",
      " 13  annual_income                    38577 non-null  float64\n",
      "dtypes: float64(6), int64(4), object(4)\n",
      "memory usage: 4.4+ MB\n"
     ]
    }
   ],
   "source": [
    "df_clean.info()"
   ]
  },
  {
   "cell_type": "code",
   "execution_count": 40,
   "metadata": {},
   "outputs": [
    {
     "data": {
      "text/plain": [
       "id                                    0\n",
       "loan_status                           0\n",
       "loan_amount                           0\n",
       "loan_term                             0\n",
       "interest_rate                         0\n",
       "installment                           0\n",
       "verification_status                   0\n",
       "purpose                               0\n",
       "dti                                   0\n",
       "open_credit_lines                     0\n",
       "revolving_line_utilization_rate      50\n",
       "employment_length                  1033\n",
       "home_ownership                        0\n",
       "annual_income                         0\n",
       "dtype: int64"
      ]
     },
     "execution_count": 40,
     "metadata": {},
     "output_type": "execute_result"
    }
   ],
   "source": [
    "df_clean.isna().sum()"
   ]
  },
  {
   "cell_type": "code",
   "execution_count": 41,
   "metadata": {},
   "outputs": [
    {
     "data": {
      "text/plain": [
       "id                                 38577\n",
       "loan_status                            2\n",
       "loan_amount                          870\n",
       "loan_term                              2\n",
       "interest_rate                        370\n",
       "installment                        15022\n",
       "verification_status                    3\n",
       "purpose                               14\n",
       "dti                                 2853\n",
       "open_credit_lines                     40\n",
       "revolving_line_utilization_rate     1088\n",
       "employment_length                     10\n",
       "home_ownership                         5\n",
       "annual_income                       5215\n",
       "dtype: int64"
      ]
     },
     "execution_count": 41,
     "metadata": {},
     "output_type": "execute_result"
    }
   ],
   "source": [
    "df_clean.nunique()"
   ]
  },
  {
   "cell_type": "code",
   "execution_count": 42,
   "metadata": {},
   "outputs": [
    {
     "data": {
      "text/plain": [
       "loan_status\n",
       "fully paid     32950\n",
       "charged off     5627\n",
       "Name: count, dtype: int64"
      ]
     },
     "execution_count": 42,
     "metadata": {},
     "output_type": "execute_result"
    }
   ],
   "source": [
    "df_clean['loan_status'].value_counts()"
   ]
  },
  {
   "cell_type": "code",
   "execution_count": 43,
   "metadata": {},
   "outputs": [
    {
     "data": {
      "text/plain": [
       "loan_term\n",
       "36    29096\n",
       "60     9481\n",
       "Name: count, dtype: int64"
      ]
     },
     "execution_count": 43,
     "metadata": {},
     "output_type": "execute_result"
    }
   ],
   "source": [
    "df_clean['loan_term'].value_counts()"
   ]
  },
  {
   "cell_type": "code",
   "execution_count": 44,
   "metadata": {},
   "outputs": [
    {
     "data": {
      "text/plain": [
       "verification_status\n",
       "not verified       16694\n",
       "verified           12206\n",
       "source verified     9677\n",
       "Name: count, dtype: int64"
      ]
     },
     "execution_count": 44,
     "metadata": {},
     "output_type": "execute_result"
    }
   ],
   "source": [
    "df_clean['verification_status'].value_counts()"
   ]
  },
  {
   "cell_type": "code",
   "execution_count": 45,
   "metadata": {},
   "outputs": [
    {
     "data": {
      "text/plain": [
       "purpose\n",
       "debt_consolidation    18055\n",
       "credit_card            5027\n",
       "other                  3865\n",
       "home_improvement       2875\n",
       "major_purchase         2150\n",
       "small_business         1754\n",
       "car                    1499\n",
       "wedding                 926\n",
       "medical                 681\n",
       "moving                  576\n",
       "vacation                375\n",
       "house                   367\n",
       "educational             325\n",
       "renewable_energy        102\n",
       "Name: count, dtype: int64"
      ]
     },
     "execution_count": 45,
     "metadata": {},
     "output_type": "execute_result"
    }
   ],
   "source": [
    "df_clean['purpose'].value_counts()"
   ]
  },
  {
   "cell_type": "code",
   "execution_count": 46,
   "metadata": {},
   "outputs": [
    {
     "data": {
      "text/plain": [
       "open_credit_lines\n",
       "7     3909\n",
       "6     3846\n",
       "8     3814\n",
       "9     3607\n",
       "5     3111\n",
       "10    3097\n",
       "11    2666\n",
       "4     2300\n",
       "12    2198\n",
       "13    1855\n",
       "3     1470\n",
       "14    1427\n",
       "15    1146\n",
       "16     908\n",
       "17     716\n",
       "2      596\n",
       "18     516\n",
       "19     384\n",
       "20     281\n",
       "21     235\n",
       "22     137\n",
       "23      93\n",
       "24      75\n",
       "25      53\n",
       "26      34\n",
       "28      24\n",
       "27      22\n",
       "30      15\n",
       "29      13\n",
       "31       7\n",
       "34       5\n",
       "35       4\n",
       "32       3\n",
       "33       3\n",
       "36       2\n",
       "39       1\n",
       "38       1\n",
       "44       1\n",
       "41       1\n",
       "42       1\n",
       "Name: count, dtype: int64"
      ]
     },
     "execution_count": 46,
     "metadata": {},
     "output_type": "execute_result"
    }
   ],
   "source": [
    "df_clean['open_credit_lines'].value_counts()"
   ]
  },
  {
   "cell_type": "code",
   "execution_count": 54,
   "metadata": {},
   "outputs": [
    {
     "data": {
      "text/plain": [
       "home_ownership\n",
       "rent        18480\n",
       "mortgage    17021\n",
       "own          2975\n",
       "other          98\n",
       "none            3\n",
       "Name: count, dtype: int64"
      ]
     },
     "execution_count": 54,
     "metadata": {},
     "output_type": "execute_result"
    }
   ],
   "source": [
    "df_clean['home_ownership'].value_counts()"
   ]
  },
  {
   "cell_type": "code",
   "execution_count": 60,
   "metadata": {},
   "outputs": [
    {
     "name": "stdout",
     "output_type": "stream",
     "text": [
      "<class 'pandas.core.frame.DataFrame'>\n",
      "Index: 38577 entries, 0 to 39716\n",
      "Data columns (total 15 columns):\n",
      " #   Column                           Non-Null Count  Dtype  \n",
      "---  ------                           --------------  -----  \n",
      " 0   id                               38577 non-null  int64  \n",
      " 1   loan_status                      38577 non-null  object \n",
      " 2   loan_amount                      38577 non-null  int64  \n",
      " 3   loan_term                        38577 non-null  int64  \n",
      " 4   interest_rate                    38577 non-null  float64\n",
      " 5   installment                      38577 non-null  float64\n",
      " 6   verification_status              38577 non-null  object \n",
      " 7   purpose                          38577 non-null  object \n",
      " 8   dti                              38577 non-null  float64\n",
      " 9   open_credit_lines                38577 non-null  int64  \n",
      " 10  revolving_line_utilization_rate  38527 non-null  float64\n",
      " 11  employment_length                37544 non-null  float64\n",
      " 12  home_ownership                   38577 non-null  object \n",
      " 13  annual_income                    38577 non-null  float64\n",
      " 14  employment_lengthd               38577 non-null  int32  \n",
      "dtypes: float64(6), int32(1), int64(4), object(4)\n",
      "memory usage: 4.6+ MB\n"
     ]
    }
   ],
   "source": [
    "df_clean.info()"
   ]
  },
  {
   "cell_type": "code",
   "execution_count": 47,
   "metadata": {},
   "outputs": [
    {
     "data": {
      "text/plain": [
       "interest_rate\n",
       "10.99    913\n",
       "11.49    790\n",
       "7.51     787\n",
       "13.49    749\n",
       "7.88     725\n",
       "        ... \n",
       "16.96      1\n",
       "18.36      1\n",
       "16.15      1\n",
       "16.01      1\n",
       "16.20      1\n",
       "Name: count, Length: 370, dtype: int64"
      ]
     },
     "execution_count": 47,
     "metadata": {},
     "output_type": "execute_result"
    }
   ],
   "source": [
    "df_clean['interest_rate'].value_counts()"
   ]
  },
  {
   "cell_type": "code",
   "execution_count": 58,
   "metadata": {},
   "outputs": [
    {
     "data": {
      "text/plain": [
       "370"
      ]
     },
     "execution_count": 58,
     "metadata": {},
     "output_type": "execute_result"
    }
   ],
   "source": [
    "df_clean['interest_rate'].nunique()"
   ]
  },
  {
   "cell_type": "code",
   "execution_count": 53,
   "metadata": {},
   "outputs": [
    {
     "data": {
      "text/plain": [
       "<Axes: xlabel='interest_rate', ylabel='Count'>"
      ]
     },
     "execution_count": 53,
     "metadata": {},
     "output_type": "execute_result"
    },
    {
     "data": {
      "image/png": "[encoded data removed]",
      "text/plain": [
       "<Figure size 640x480 with 1 Axes>"
      ]
     },
     "metadata": {},
     "output_type": "display_data"
    }
   ],
   "source": [
    "sns.histplot(df_clean['interest_rate'], bins=50, kde=False, color='green')"
   ]
  },
  {
   "cell_type": "code",
   "execution_count": 54,
   "metadata": {},
   "outputs": [
    {
     "data": {
      "image/png": "[encoded data removed]",
      "text/plain": [
       "<Figure size 1000x600 with 1 Axes>"
      ]
     },
     "metadata": {},
     "output_type": "display_data"
    }
   ],
   "source": [
    "fig, ax = plt.subplots(figsize=(10, 6))\n",
    "plt.hist(df_clean['interest_rate'], bins=50, alpha=0.7, color='blue');"
   ]
  },
  {
   "cell_type": "code",
   "execution_count": 55,
   "metadata": {},
   "outputs": [
    {
     "data": {
      "text/plain": [
       "purpose\n",
       "debt_consolidation    18055\n",
       "credit_card            5027\n",
       "other                  3865\n",
       "home_improvement       2875\n",
       "major_purchase         2150\n",
       "small_business         1754\n",
       "car                    1499\n",
       "wedding                 926\n",
       "medical                 681\n",
       "moving                  576\n",
       "vacation                375\n",
       "house                   367\n",
       "educational             325\n",
       "renewable_energy        102\n",
       "Name: count, dtype: int64"
      ]
     },
     "execution_count": 55,
     "metadata": {},
     "output_type": "execute_result"
    }
   ],
   "source": [
    "df_clean['purpose'].value_counts()"
   ]
  },
  {
   "cell_type": "code",
   "execution_count": 59,
   "metadata": {},
   "outputs": [
    {
     "data": {
      "text/plain": [
       "14"
      ]
     },
     "execution_count": 59,
     "metadata": {},
     "output_type": "execute_result"
    }
   ],
   "source": [
    "df_clean['purpose'].nunique()"
   ]
  },
  {
   "cell_type": "code",
   "execution_count": 61,
   "metadata": {},
   "outputs": [
    {
     "data": {
      "text/plain": [
       "<Axes: xlabel='purpose'>"
      ]
     },
     "execution_count": 61,
     "metadata": {},
     "output_type": "execute_result"
    },
    {
     "data": {
      "image/png": "[encoded data removed]",
      "text/plain": [
       "<Figure size 640x480 with 1 Axes>"
      ]
     },
     "metadata": {},
     "output_type": "display_data"
    }
   ],
   "source": [
    "valores_purpose = df_clean['purpose'].value_counts()\n",
    "valores_purpose.plot(kind='bar')"
   ]
  },
  {
   "cell_type": "code",
   "execution_count": 62,
   "metadata": {},
   "outputs": [
    {
     "data": {
      "text/plain": [
       "dti\n",
       "0.00     178\n",
       "12.00     46\n",
       "18.00     45\n",
       "19.20     39\n",
       "13.20     39\n",
       "        ... \n",
       "28.95      1\n",
       "25.85      1\n",
       "25.77      1\n",
       "27.20      1\n",
       "25.43      1\n",
       "Name: count, Length: 2853, dtype: int64"
      ]
     },
     "execution_count": 62,
     "metadata": {},
     "output_type": "execute_result"
    }
   ],
   "source": [
    "df_clean['dti'].value_counts()"
   ]
  },
  {
   "cell_type": "code",
   "execution_count": 63,
   "metadata": {},
   "outputs": [
    {
     "data": {
      "text/plain": [
       "2853"
      ]
     },
     "execution_count": 63,
     "metadata": {},
     "output_type": "execute_result"
    }
   ],
   "source": [
    "df_clean['dti'].nunique()"
   ]
  },
  {
   "cell_type": "code",
   "execution_count": 64,
   "metadata": {},
   "outputs": [
    {
     "data": {
      "text/plain": [
       "<Axes: xlabel='dti', ylabel='Count'>"
      ]
     },
     "execution_count": 64,
     "metadata": {},
     "output_type": "execute_result"
    },
    {
     "data": {
      "image/png": "[encoded data removed]",
      "text/plain": [
       "<Figure size 640x480 with 1 Axes>"
      ]
     },
     "metadata": {},
     "output_type": "display_data"
    }
   ],
   "source": [
    "sns.histplot(df_clean['dti'], bins=50, kde=False, color='yellow')"
   ]
  },
  {
   "cell_type": "code",
   "execution_count": 65,
   "metadata": {},
   "outputs": [
    {
     "data": {
      "text/plain": [
       "revolving_line_utilization_rate\n",
       "0.00     954\n",
       "0.20      62\n",
       "63.00     62\n",
       "40.70     57\n",
       "31.20     57\n",
       "        ... \n",
       "77.63      1\n",
       "25.74      1\n",
       "0.83       1\n",
       "47.36      1\n",
       "7.28       1\n",
       "Name: count, Length: 1088, dtype: int64"
      ]
     },
     "execution_count": 65,
     "metadata": {},
     "output_type": "execute_result"
    }
   ],
   "source": [
    "df_clean['revolving_line_utilization_rate'].value_counts()"
   ]
  },
  {
   "cell_type": "code",
   "execution_count": 66,
   "metadata": {},
   "outputs": [
    {
     "data": {
      "text/plain": [
       "1088"
      ]
     },
     "execution_count": 66,
     "metadata": {},
     "output_type": "execute_result"
    }
   ],
   "source": [
    "df_clean['revolving_line_utilization_rate'].nunique()"
   ]
  },
  {
   "cell_type": "code",
   "execution_count": 67,
   "metadata": {},
   "outputs": [
    {
     "data": {
      "text/plain": [
       "<Axes: xlabel='revolving_line_utilization_rate', ylabel='Count'>"
      ]
     },
     "execution_count": 67,
     "metadata": {},
     "output_type": "execute_result"
    },
    {
     "data": {
      "image/png": "[encoded data removed]",
      "text/plain": [
       "<Figure size 640x480 with 1 Axes>"
      ]
     },
     "metadata": {},
     "output_type": "display_data"
    }
   ],
   "source": [
    "sns.histplot(df_clean['revolving_line_utilization_rate'], bins=50, kde=False, color='gray')"
   ]
  },
  {
   "cell_type": "code",
   "execution_count": 68,
   "metadata": {},
   "outputs": [
    {
     "data": {
      "text/plain": [
       "employment_length\n",
       "10.0    8488\n",
       "1.0     7677\n",
       "2.0     4291\n",
       "3.0     4012\n",
       "4.0     3342\n",
       "5.0     3194\n",
       "6.0     2168\n",
       "7.0     1711\n",
       "8.0     1435\n",
       "9.0     1226\n",
       "Name: count, dtype: int64"
      ]
     },
     "execution_count": 68,
     "metadata": {},
     "output_type": "execute_result"
    }
   ],
   "source": [
    "df_clean['employment_length'].value_counts()"
   ]
  },
  {
   "cell_type": "code",
   "execution_count": 69,
   "metadata": {},
   "outputs": [
    {
     "data": {
      "text/plain": [
       "10"
      ]
     },
     "execution_count": 69,
     "metadata": {},
     "output_type": "execute_result"
    }
   ],
   "source": [
    "df_clean['employment_length'].nunique()"
   ]
  },
  {
   "cell_type": "code",
   "execution_count": 71,
   "metadata": {},
   "outputs": [
    {
     "data": {
      "text/plain": [
       "<Axes: xlabel='employment_length'>"
      ]
     },
     "execution_count": 71,
     "metadata": {},
     "output_type": "execute_result"
    },
    {
     "data": {
      "image/png": "[encoded data removed]",
      "text/plain": [
       "<Figure size 640x480 with 1 Axes>"
      ]
     },
     "metadata": {},
     "output_type": "display_data"
    }
   ],
   "source": [
    "valores_employment_length = df_clean['employment_length'].value_counts()\n",
    "valores_employment_length.plot(kind='bar')"
   ]
  },
  {
   "cell_type": "code",
   "execution_count": 72,
   "metadata": {},
   "outputs": [
    {
     "data": {
      "text/plain": [
       "home_ownership\n",
       "rent        18480\n",
       "mortgage    17021\n",
       "own          2975\n",
       "other          98\n",
       "none            3\n",
       "Name: count, dtype: int64"
      ]
     },
     "execution_count": 72,
     "metadata": {},
     "output_type": "execute_result"
    }
   ],
   "source": [
    "df_clean['home_ownership'].value_counts()"
   ]
  },
  {
   "cell_type": "code",
   "execution_count": 73,
   "metadata": {},
   "outputs": [
    {
     "data": {
      "text/plain": [
       "5"
      ]
     },
     "execution_count": 73,
     "metadata": {},
     "output_type": "execute_result"
    }
   ],
   "source": [
    "df_clean['home_ownership'].nunique()"
   ]
  },
  {
   "cell_type": "code",
   "execution_count": 74,
   "metadata": {},
   "outputs": [
    {
     "data": {
      "text/plain": [
       "<Axes: xlabel='home_ownership'>"
      ]
     },
     "execution_count": 74,
     "metadata": {},
     "output_type": "execute_result"
    },
    {
     "data": {
      "image/png": "[encoded data removed]",
      "text/plain": [
       "<Figure size 640x480 with 1 Axes>"
      ]
     },
     "metadata": {},
     "output_type": "display_data"
    }
   ],
   "source": [
    "valores_home_ownership = df_clean['home_ownership'].value_counts()\n",
    "valores_home_ownership.plot(kind='bar')"
   ]
  },
  {
   "cell_type": "code",
   "execution_count": 75,
   "metadata": {},
   "outputs": [
    {
     "data": {
      "text/plain": [
       "annual_income\n",
       "60000.0     1466\n",
       "50000.0     1029\n",
       "40000.0      855\n",
       "45000.0      811\n",
       "30000.0      808\n",
       "            ... \n",
       "80569.0        1\n",
       "82116.0        1\n",
       "242400.0       1\n",
       "133300.0       1\n",
       "27376.0        1\n",
       "Name: count, Length: 5215, dtype: int64"
      ]
     },
     "execution_count": 75,
     "metadata": {},
     "output_type": "execute_result"
    }
   ],
   "source": [
    "df_clean['annual_income'].value_counts()"
   ]
  },
  {
   "cell_type": "code",
   "execution_count": 76,
   "metadata": {},
   "outputs": [
    {
     "data": {
      "text/plain": [
       "5215"
      ]
     },
     "execution_count": 76,
     "metadata": {},
     "output_type": "execute_result"
    }
   ],
   "source": [
    "df_clean['annual_income'].nunique()"
   ]
  },
  {
   "cell_type": "code",
   "execution_count": 84,
   "metadata": {},
   "outputs": [
    {
     "data": {
      "text/plain": [
       "0         24000.0\n",
       "1         30000.0\n",
       "2         12252.0\n",
       "3         49200.0\n",
       "5         36000.0\n",
       "           ...   \n",
       "39712    110000.0\n",
       "39713     18000.0\n",
       "39714    100000.0\n",
       "39715    200000.0\n",
       "39716     22000.0\n",
       "Name: annual_income, Length: 38577, dtype: float64"
      ]
     },
     "execution_count": 84,
     "metadata": {},
     "output_type": "execute_result"
    }
   ],
   "source": [
    "df_clean['annual_income']\n"
   ]
  },
  {
   "cell_type": "code",
   "execution_count": 96,
   "metadata": {},
   "outputs": [
    {
     "data": {
      "text/plain": [
       "id                                   int64\n",
       "loan_status                         object\n",
       "loan_amount                          int64\n",
       "loan_term                            int64\n",
       "interest_rate                      float64\n",
       "installment                        float64\n",
       "verification_status                 object\n",
       "purpose                             object\n",
       "dti                                float64\n",
       "open_credit_lines                    int64\n",
       "revolving_line_utilization_rate    float64\n",
       "employment_length                  float64\n",
       "home_ownership                      object\n",
       "annual_income                        int64\n",
       "dtype: object"
      ]
     },
     "execution_count": 96,
     "metadata": {},
     "output_type": "execute_result"
    }
   ],
   "source": [
    "df_clean.astype({'annual_income': 'int64'}).dtypes"
   ]
  },
  {
   "cell_type": "code",
   "execution_count": 97,
   "metadata": {},
   "outputs": [
    {
     "name": "stdout",
     "output_type": "stream",
     "text": [
      "<class 'pandas.core.frame.DataFrame'>\n",
      "Index: 38577 entries, 0 to 39716\n",
      "Data columns (total 14 columns):\n",
      " #   Column                           Non-Null Count  Dtype  \n",
      "---  ------                           --------------  -----  \n",
      " 0   id                               38577 non-null  int64  \n",
      " 1   loan_status                      38577 non-null  object \n",
      " 2   loan_amount                      38577 non-null  int64  \n",
      " 3   loan_term                        38577 non-null  int64  \n",
      " 4   interest_rate                    38577 non-null  float64\n",
      " 5   installment                      38577 non-null  float64\n",
      " 6   verification_status              38577 non-null  object \n",
      " 7   purpose                          38577 non-null  object \n",
      " 8   dti                              38577 non-null  float64\n",
      " 9   open_credit_lines                38577 non-null  int64  \n",
      " 10  revolving_line_utilization_rate  38527 non-null  float64\n",
      " 11  employment_length                37544 non-null  float64\n",
      " 12  home_ownership                   38577 non-null  object \n",
      " 13  annual_income                    38577 non-null  float64\n",
      "dtypes: float64(6), int64(4), object(4)\n",
      "memory usage: 4.4+ MB\n"
     ]
    }
   ],
   "source": [
    "df_clean.info()"
   ]
  },
  {
   "cell_type": "code",
   "execution_count": 98,
   "metadata": {},
   "outputs": [
    {
     "data": {
      "image/png": "[encoded data removed]",
      "text/plain": [
       "<Figure size 800x600 with 1 Axes>"
      ]
     },
     "metadata": {},
     "output_type": "display_data"
    }
   ],
   "source": [
    "plt.figure(figsize=(8, 6))\n",
    "df_clean['annual_income'].plot(kind='density', color='skyblue')\n",
    "plt.title('Densidad de probabilidad de ingresos anuales')\n",
    "plt.xlabel('Ingresos anuales')\n",
    "plt.ylabel('Densidad de probabilidad')\n",
    "plt.show()"
   ]
  },
  {
   "cell_type": "code",
   "execution_count": 100,
   "metadata": {},
   "outputs": [
    {
     "data": {
      "text/plain": [
       "count     38577.00\n",
       "mean      68777.97\n",
       "std       64218.68\n",
       "min        4000.00\n",
       "25%       40000.00\n",
       "50%       58868.00\n",
       "75%       82000.00\n",
       "max     6000000.00\n",
       "Name: annual_income, dtype: float64"
      ]
     },
     "execution_count": 100,
     "metadata": {},
     "output_type": "execute_result"
    }
   ],
   "source": [
    "df_clean['annual_income'].describe()"
   ]
  },
  {
   "cell_type": "code",
   "execution_count": 101,
   "metadata": {},
   "outputs": [
    {
     "data": {
      "image/png": "[encoded data removed]",
      "text/plain": [
       "<Figure size 640x480 with 1 Axes>"
      ]
     },
     "metadata": {},
     "output_type": "display_data"
    }
   ],
   "source": [
    "plt.boxplot(df_clean['annual_income'])\n",
    "plt.show()"
   ]
  },
  {
   "cell_type": "code",
   "execution_count": 103,
   "metadata": {},
   "outputs": [
    {
     "name": "stdout",
     "output_type": "stream",
     "text": [
      "Datos filtrados sin outliers:\n"
     ]
    },
    {
     "data": {
      "text/html": [
       "<div>\n",
       "<style scoped>\n",
       "    .dataframe tbody tr th:only-of-type {\n",
       "        vertical-align: middle;\n",
       "    }\n",
       "\n",
       "    .dataframe tbody tr th {\n",
       "        vertical-align: top;\n",
       "    }\n",
       "\n",
       "    .dataframe thead th {\n",
       "        text-align: right;\n",
       "    }\n",
       "</style>\n",
       "<table border=\"1\" class=\"dataframe\">\n",
       "  <thead>\n",
       "    <tr style=\"text-align: right;\">\n",
       "      <th></th>\n",
       "      <th>id</th>\n",
       "      <th>loan_status</th>\n",
       "      <th>loan_amount</th>\n",
       "      <th>loan_term</th>\n",
       "      <th>interest_rate</th>\n",
       "      <th>installment</th>\n",
       "      <th>verification_status</th>\n",
       "      <th>purpose</th>\n",
       "      <th>dti</th>\n",
       "      <th>open_credit_lines</th>\n",
       "      <th>revolving_line_utilization_rate</th>\n",
       "      <th>employment_length</th>\n",
       "      <th>home_ownership</th>\n",
       "      <th>annual_income</th>\n",
       "    </tr>\n",
       "  </thead>\n",
       "  <tbody>\n",
       "    <tr>\n",
       "      <th>0</th>\n",
       "      <td>1077501</td>\n",
       "      <td>fully paid</td>\n",
       "      <td>5000</td>\n",
       "      <td>36</td>\n",
       "      <td>10.65</td>\n",
       "      <td>162.87</td>\n",
       "      <td>verified</td>\n",
       "      <td>credit_card</td>\n",
       "      <td>27.65</td>\n",
       "      <td>3</td>\n",
       "      <td>83.70</td>\n",
       "      <td>10.00</td>\n",
       "      <td>rent</td>\n",
       "      <td>24000.00</td>\n",
       "    </tr>\n",
       "    <tr>\n",
       "      <th>1</th>\n",
       "      <td>1077430</td>\n",
       "      <td>charged off</td>\n",
       "      <td>2500</td>\n",
       "      <td>60</td>\n",
       "      <td>15.27</td>\n",
       "      <td>59.83</td>\n",
       "      <td>source verified</td>\n",
       "      <td>car</td>\n",
       "      <td>1.00</td>\n",
       "      <td>3</td>\n",
       "      <td>9.40</td>\n",
       "      <td>1.00</td>\n",
       "      <td>rent</td>\n",
       "      <td>30000.00</td>\n",
       "    </tr>\n",
       "    <tr>\n",
       "      <th>2</th>\n",
       "      <td>1077175</td>\n",
       "      <td>fully paid</td>\n",
       "      <td>2400</td>\n",
       "      <td>36</td>\n",
       "      <td>15.96</td>\n",
       "      <td>84.33</td>\n",
       "      <td>not verified</td>\n",
       "      <td>small_business</td>\n",
       "      <td>8.72</td>\n",
       "      <td>2</td>\n",
       "      <td>98.50</td>\n",
       "      <td>10.00</td>\n",
       "      <td>rent</td>\n",
       "      <td>12252.00</td>\n",
       "    </tr>\n",
       "    <tr>\n",
       "      <th>3</th>\n",
       "      <td>1076863</td>\n",
       "      <td>fully paid</td>\n",
       "      <td>10000</td>\n",
       "      <td>36</td>\n",
       "      <td>13.49</td>\n",
       "      <td>339.31</td>\n",
       "      <td>source verified</td>\n",
       "      <td>other</td>\n",
       "      <td>20.00</td>\n",
       "      <td>10</td>\n",
       "      <td>21.00</td>\n",
       "      <td>10.00</td>\n",
       "      <td>rent</td>\n",
       "      <td>49200.00</td>\n",
       "    </tr>\n",
       "    <tr>\n",
       "      <th>5</th>\n",
       "      <td>1075269</td>\n",
       "      <td>fully paid</td>\n",
       "      <td>5000</td>\n",
       "      <td>36</td>\n",
       "      <td>7.90</td>\n",
       "      <td>156.46</td>\n",
       "      <td>source verified</td>\n",
       "      <td>wedding</td>\n",
       "      <td>11.20</td>\n",
       "      <td>9</td>\n",
       "      <td>28.30</td>\n",
       "      <td>3.00</td>\n",
       "      <td>rent</td>\n",
       "      <td>36000.00</td>\n",
       "    </tr>\n",
       "    <tr>\n",
       "      <th>...</th>\n",
       "      <td>...</td>\n",
       "      <td>...</td>\n",
       "      <td>...</td>\n",
       "      <td>...</td>\n",
       "      <td>...</td>\n",
       "      <td>...</td>\n",
       "      <td>...</td>\n",
       "      <td>...</td>\n",
       "      <td>...</td>\n",
       "      <td>...</td>\n",
       "      <td>...</td>\n",
       "      <td>...</td>\n",
       "      <td>...</td>\n",
       "      <td>...</td>\n",
       "    </tr>\n",
       "    <tr>\n",
       "      <th>39711</th>\n",
       "      <td>92402</td>\n",
       "      <td>fully paid</td>\n",
       "      <td>5000</td>\n",
       "      <td>36</td>\n",
       "      <td>8.70</td>\n",
       "      <td>158.30</td>\n",
       "      <td>not verified</td>\n",
       "      <td>credit_card</td>\n",
       "      <td>15.55</td>\n",
       "      <td>10</td>\n",
       "      <td>23.00</td>\n",
       "      <td>5.00</td>\n",
       "      <td>mortgage</td>\n",
       "      <td>75000.00</td>\n",
       "    </tr>\n",
       "    <tr>\n",
       "      <th>39712</th>\n",
       "      <td>92187</td>\n",
       "      <td>fully paid</td>\n",
       "      <td>2500</td>\n",
       "      <td>36</td>\n",
       "      <td>8.07</td>\n",
       "      <td>78.42</td>\n",
       "      <td>not verified</td>\n",
       "      <td>home_improvement</td>\n",
       "      <td>11.33</td>\n",
       "      <td>13</td>\n",
       "      <td>13.10</td>\n",
       "      <td>4.00</td>\n",
       "      <td>mortgage</td>\n",
       "      <td>110000.00</td>\n",
       "    </tr>\n",
       "    <tr>\n",
       "      <th>39713</th>\n",
       "      <td>90665</td>\n",
       "      <td>fully paid</td>\n",
       "      <td>8500</td>\n",
       "      <td>36</td>\n",
       "      <td>10.28</td>\n",
       "      <td>275.38</td>\n",
       "      <td>not verified</td>\n",
       "      <td>credit_card</td>\n",
       "      <td>6.40</td>\n",
       "      <td>6</td>\n",
       "      <td>26.90</td>\n",
       "      <td>3.00</td>\n",
       "      <td>rent</td>\n",
       "      <td>18000.00</td>\n",
       "    </tr>\n",
       "    <tr>\n",
       "      <th>39714</th>\n",
       "      <td>90395</td>\n",
       "      <td>fully paid</td>\n",
       "      <td>5000</td>\n",
       "      <td>36</td>\n",
       "      <td>8.07</td>\n",
       "      <td>156.84</td>\n",
       "      <td>not verified</td>\n",
       "      <td>debt_consolidation</td>\n",
       "      <td>2.30</td>\n",
       "      <td>11</td>\n",
       "      <td>19.40</td>\n",
       "      <td>1.00</td>\n",
       "      <td>mortgage</td>\n",
       "      <td>100000.00</td>\n",
       "    </tr>\n",
       "    <tr>\n",
       "      <th>39716</th>\n",
       "      <td>87023</td>\n",
       "      <td>fully paid</td>\n",
       "      <td>7500</td>\n",
       "      <td>36</td>\n",
       "      <td>13.75</td>\n",
       "      <td>255.43</td>\n",
       "      <td>not verified</td>\n",
       "      <td>debt_consolidation</td>\n",
       "      <td>14.29</td>\n",
       "      <td>7</td>\n",
       "      <td>51.50</td>\n",
       "      <td>1.00</td>\n",
       "      <td>own</td>\n",
       "      <td>22000.00</td>\n",
       "    </tr>\n",
       "  </tbody>\n",
       "</table>\n",
       "<p>36815 rows × 14 columns</p>\n",
       "</div>"
      ],
      "text/plain": [
       "            id  loan_status  loan_amount  loan_term  interest_rate  \\\n",
       "0      1077501   fully paid         5000         36          10.65   \n",
       "1      1077430  charged off         2500         60          15.27   \n",
       "2      1077175   fully paid         2400         36          15.96   \n",
       "3      1076863   fully paid        10000         36          13.49   \n",
       "5      1075269   fully paid         5000         36           7.90   \n",
       "...        ...          ...          ...        ...            ...   \n",
       "39711    92402   fully paid         5000         36           8.70   \n",
       "39712    92187   fully paid         2500         36           8.07   \n",
       "39713    90665   fully paid         8500         36          10.28   \n",
       "39714    90395   fully paid         5000         36           8.07   \n",
       "39716    87023   fully paid         7500         36          13.75   \n",
       "\n",
       "       installment verification_status             purpose   dti  \\\n",
       "0           162.87            verified         credit_card 27.65   \n",
       "1            59.83     source verified                 car  1.00   \n",
       "2            84.33        not verified      small_business  8.72   \n",
       "3           339.31     source verified               other 20.00   \n",
       "5           156.46     source verified             wedding 11.20   \n",
       "...            ...                 ...                 ...   ...   \n",
       "39711       158.30        not verified         credit_card 15.55   \n",
       "39712        78.42        not verified    home_improvement 11.33   \n",
       "39713       275.38        not verified         credit_card  6.40   \n",
       "39714       156.84        not verified  debt_consolidation  2.30   \n",
       "39716       255.43        not verified  debt_consolidation 14.29   \n",
       "\n",
       "       open_credit_lines  revolving_line_utilization_rate  employment_length  \\\n",
       "0                      3                            83.70              10.00   \n",
       "1                      3                             9.40               1.00   \n",
       "2                      2                            98.50              10.00   \n",
       "3                     10                            21.00              10.00   \n",
       "5                      9                            28.30               3.00   \n",
       "...                  ...                              ...                ...   \n",
       "39711                 10                            23.00               5.00   \n",
       "39712                 13                            13.10               4.00   \n",
       "39713                  6                            26.90               3.00   \n",
       "39714                 11                            19.40               1.00   \n",
       "39716                  7                            51.50               1.00   \n",
       "\n",
       "      home_ownership  annual_income  \n",
       "0               rent       24000.00  \n",
       "1               rent       30000.00  \n",
       "2               rent       12252.00  \n",
       "3               rent       49200.00  \n",
       "5               rent       36000.00  \n",
       "...              ...            ...  \n",
       "39711       mortgage       75000.00  \n",
       "39712       mortgage      110000.00  \n",
       "39713           rent       18000.00  \n",
       "39714       mortgage      100000.00  \n",
       "39716            own       22000.00  \n",
       "\n",
       "[36815 rows x 14 columns]"
      ]
     },
     "execution_count": 103,
     "metadata": {},
     "output_type": "execute_result"
    }
   ],
   "source": [
    "Q1 = df_clean['annual_income'].quantile(0.25)\n",
    "Q3 = df_clean['annual_income'].quantile(0.75)\n",
    "IQR = Q3 - Q1\n",
    "\n",
    "# Definir los límites para identificar outliers\n",
    "limite_inferior = Q1 - 1.5 * IQR\n",
    "limite_superior = Q3 + 1.5 * IQR\n",
    "\n",
    "# Filtrar los valores que no son outliers\n",
    "datos_filtrados = df_clean[(df_clean['annual_income'] >= limite_inferior) & (df_clean['annual_income'] <= limite_superior)]\n",
    "\n",
    "print(\"Datos filtrados sin outliers:\")\n",
    "datos_filtrados"
   ]
  },
  {
   "cell_type": "code",
   "execution_count": 104,
   "metadata": {},
   "outputs": [
    {
     "data": {
      "image/png": "[encoded data removed]",
      "text/plain": [
       "<Figure size 800x600 with 1 Axes>"
      ]
     },
     "metadata": {},
     "output_type": "display_data"
    }
   ],
   "source": [
    "plt.figure(figsize=(8, 6))\n",
    "datos_filtrados['annual_income'].plot(kind='density', color='skyblue')\n",
    "plt.title('Densidad de probabilidad de ingresos anuales')\n",
    "plt.xlabel('Ingresos anuales')\n",
    "plt.ylabel('Densidad de probabilidad')\n",
    "plt.show()"
   ]
  }
 ],
 "metadata": {
  "kernelspec": {
   "display_name": "Python 3",
   "language": "python",
   "name": "python3"
  },
  "language_info": {
   "codemirror_mode": {
    "name": "ipython",
    "version": 3
   },
   "file_extension": ".py",
   "mimetype": "text/x-python",
   "name": "python",
   "nbconvert_exporter": "python",
   "pygments_lexer": "ipython3",
   "version": "3.11.3"
  }
 },
 "nbformat": 4,
 "nbformat_minor": 2
}
